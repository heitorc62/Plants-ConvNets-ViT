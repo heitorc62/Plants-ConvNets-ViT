{
 "cells": [
  {
   "cell_type": "markdown",
   "metadata": {},
   "source": [
    "# **Introdução**"
   ]
  },
  {
   "cell_type": "markdown",
   "metadata": {},
   "source": [
    "O objetivo desse trabalho é implementar \"Automated Bias Discover Task\" descrito em: _Discover the Unknown Biased Attribute of an Image Classifier\n",
    "Zhiheng Li, Chenliang Xu_\n",
    "\n",
    "O workflow descrito no paper, pode ser bem resumido pela seguinte imagem:\n",
    "\n",
    "# ![title](images/workflow.png)"
   ]
  },
  {
   "cell_type": "markdown",
   "metadata": {},
   "source": [
    "Percaba que primeiramente precisamos obter um hiperplano do atributo enviesado e, depois disso, a tarefa de encontrar o viés do classificador continua.\n",
    "Nesse sentido, o escopo desse trabalho é, primeiramente obter esse hiperplano otimizado."
   ]
  },
  {
   "cell_type": "markdown",
   "metadata": {},
   "source": [
    "Para fazer isso, precisamos de duas coisas:\n",
    "1. Um classificador enviesado ✅\n",
    "2. Um modelo gerativo capaz de reproduzir a distribuição de probabilidades do dataset desse classificador ✅"
   ]
  },
  {
   "cell_type": "markdown",
   "metadata": {},
   "source": [
    "Como já possuímos esses dois pre-requisitos, podemos implementar esse workflow. É importante perceber que faremos uma abordagem 1 vs all para cada classe no problema. Podendo encontrar diversos vieses presentes nesse dataset, um para cada classe."
   ]
  },
  {
   "cell_type": "markdown",
   "metadata": {},
   "source": [
    "# **Step 1: Hyperplane optimization**"
   ]
  },
  {
   "cell_type": "markdown",
   "metadata": {},
   "source": [
    "#### **A implementação da task de treinamento pode ser encontrada em ``bias_discover_training_task.py``**"
   ]
  },
  {
   "cell_type": "markdown",
   "metadata": {},
   "source": [
    "# **Step 2: Human interpretation**"
   ]
  },
  {
   "cell_type": "markdown",
   "metadata": {},
   "source": [
    "### **1. Fazer os imports necessários.**"
   ]
  },
  {
   "cell_type": "code",
   "execution_count": 2,
   "metadata": {},
   "outputs": [],
   "source": [
    "from modules.discoverer import GenerativeModel, BiasDiscoverer, one_vs_all_inference\n",
    "from modules.model_loader import load_gen_model, load_classifier\n",
    "import torch\n",
    "import matplotlib.pyplot as plt"
   ]
  },
  {
   "cell_type": "markdown",
   "metadata": {},
   "source": [
    "### **2. Definir constantes.**"
   ]
  },
  {
   "cell_type": "code",
   "execution_count": null,
   "metadata": {},
   "outputs": [],
   "source": [
    "GENERATOR_PATH = \"../StyleGAN/trained_models/netG.pth\"\n",
    "MAPPING_NETWORK_PATH = \"../StyleGAN/trained_models/mappingNetwork.pth\"\n",
    "CLASSIFIER_PATH = \"../../../Classifier/models/model.pth\"\n",
    "\n",
    "Z_DIM = 256\n",
    "EPOCHS = 1\n",
    "BATCH_SIZE = 32\n",
    "DEVICE = \"cpu\"\n",
    "TARGET_CLASS = 1"
   ]
  },
  {
   "cell_type": "markdown",
   "metadata": {},
   "source": [
    "### **3. Instanciar modelos.**"
   ]
  },
  {
   "cell_type": "code",
   "execution_count": null,
   "metadata": {},
   "outputs": [],
   "source": [
    "gen_model = GenerativeModel(load_gen_model(GENERATOR_PATH, MAPPING_NETWORK_PATH, DEVICE), mapping_network)\n",
    "biased_classifier = load_classifier(CLASSIFIER_PATH, DEVICE)\n",
    "bias_discoverer = BiasDiscoverer(Z_DIM, gen_model, biased_classifier)"
   ]
  },
  {
   "cell_type": "markdown",
   "metadata": {},
   "source": [
    "### **4. Gerar as traversal images.**"
   ]
  },
  {
   "cell_type": "code",
   "execution_count": null,
   "metadata": {},
   "outputs": [],
   "source": [
    "z_data_points = torch.rand(BATCH_SIZE, Z_DIM)\n",
    "latent_codes = bias_discoverer.generate_latent_codes(z_data_points)\n",
    "traversal_images = generate_traversal_images(gen_model, latent_codes)\n",
    "probs_predictions = one_vs_all_inference(biased_classifier, traversal_images, TARGET_CLASS)"
   ]
  },
  {
   "cell_type": "markdown",
   "metadata": {},
   "source": [
    "### **5. Plotar as traversal images com seus valores preditos.**"
   ]
  },
  {
   "cell_type": "code",
   "execution_count": null,
   "metadata": {},
   "outputs": [],
   "source": [
    "def display_images_with_scores(images, scores):\n",
    "    fig, ax = plt.subplots(1, len(images), figsize=(15, 5))\n",
    "    \n",
    "    for i, (img, score) in enumerate(zip(images, scores)):\n",
    "        # Display image\n",
    "        ax[i].imshow(img)\n",
    "        ax[i].axis('off')  # hide axes\n",
    "        \n",
    "        # Annotate the score. Adjust (x,y) values as per your needs.\n",
    "        ax[i].annotate(f\"{score:.2f}\", (0, img.shape[0] + 15), color=\"black\", weight=\"bold\", fontsize=12, ha='left')\n",
    "    \n",
    "    plt.tight_layout()\n",
    "    plt.show()"
   ]
  },
  {
   "cell_type": "code",
   "execution_count": null,
   "metadata": {},
   "outputs": [],
   "source": [
    "for i in range(BATCH_SIZE):\n",
    "    display_images_with_scores(traversal_images[i], probs_predictions[i])"
   ]
  }
 ],
 "metadata": {
  "kernelspec": {
   "display_name": "IC",
   "language": "python",
   "name": "python3"
  },
  "language_info": {
   "codemirror_mode": {
    "name": "ipython",
    "version": 3
   },
   "file_extension": ".py",
   "mimetype": "text/x-python",
   "name": "python",
   "nbconvert_exporter": "python",
   "pygments_lexer": "ipython3",
   "version": "3.11.5"
  }
 },
 "nbformat": 4,
 "nbformat_minor": 2
}
