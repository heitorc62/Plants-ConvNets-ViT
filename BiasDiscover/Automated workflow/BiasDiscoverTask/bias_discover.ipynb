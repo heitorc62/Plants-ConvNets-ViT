{
 "cells": [
  {
   "cell_type": "markdown",
   "metadata": {},
   "source": [
    "# **Introdução**"
   ]
  },
  {
   "cell_type": "markdown",
   "metadata": {},
   "source": [
    "O objetivo desse trabalho é implementar \"Automated Bias Discover Task\" descrito em: _Discover the Unknown Biased Attribute of an Image Classifier\n",
    "Zhiheng Li, Chenliang Xu_\n",
    "\n",
    "O workflow descrito no paper, pode ser bem resumido pela seguinte imagem:\n",
    "\n",
    "# ![title](images/workflow.png)"
   ]
  },
  {
   "cell_type": "markdown",
   "metadata": {},
   "source": [
    "Percaba que primeiramente precisamos obter um hiperplano do atributo enviesado e, depois disso, a tarefa de encontrar o viés do classificador continua.\n",
    "Nesse sentido, o escopo desse trabalho é, primeiramente obter esse hiperplano otimizado."
   ]
  },
  {
   "cell_type": "markdown",
   "metadata": {},
   "source": [
    "Para fazer isso, precisamos de duas coisas:\n",
    "1. Um classificador enviesado ✅\n",
    "2. Um modelo gerativo capaz de reproduzir a distribuição de probabilidades do dataset desse classificador ✅"
   ]
  },
  {
   "cell_type": "markdown",
   "metadata": {},
   "source": [
    "Como já possuímos esses dois pre-requisitos, podemos implementar esse workflow. É importante perceber que faremos uma abordagem 1 vs all para cada classe no problema. Podendo encontrar diversos vieses presentes nesse dataset, um para cada classe."
   ]
  },
  {
   "cell_type": "markdown",
   "metadata": {},
   "source": [
    "# **Implementação**"
   ]
  },
  {
   "cell_type": "markdown",
   "metadata": {},
   "source": [
    "Para implementar esse precisamos saber a dimensão $d$ do espaço latente do modelo gerativo treinado. Essa será a dimensionalidade do \"hiperplano do atributo enviesado\" que será encontrado."
   ]
  },
  {
   "cell_type": "code",
   "execution_count": 2,
   "metadata": {},
   "outputs": [],
   "source": [
    "import torch\n",
    "from torch import nn"
   ]
  },
  {
   "cell_type": "code",
   "execution_count": null,
   "metadata": {},
   "outputs": [],
   "source": [
    "class BiasDicoverer(nn.Module):\n",
    "    def __init__(self, z_dim, generative_model, classifier):\n",
    "        self.hyperplane = nn.Parameter(torch.rand(z_dim))\n",
    "        self.generative_model = generative_model\n",
    "        self.classifier = classifier\n",
    "    \n",
    "    def generate_latent_codes(hyperplane):\n",
    "\n",
    "    \n",
    "    def forward():\n",
    "        latent_codes = generate_latent_codes(hyperplane)\n",
    "        traversal_images = self.generativel_model(latent_codes)\n",
    "        labels = self.classifier(traversal_images)"
   ]
  },
  {
   "cell_type": "code",
   "execution_count": null,
   "metadata": {},
   "outputs": [],
   "source": [
    "def TotalVARLoss(num_traversal_images, predictions):\n",
    "    "
   ]
  },
  {
   "cell_type": "code",
   "execution_count": null,
   "metadata": {},
   "outputs": [],
   "source": [
    "def optimize_hyperplane():\n",
    "    "
   ]
  }
 ],
 "metadata": {
  "kernelspec": {
   "display_name": "IC",
   "language": "python",
   "name": "python3"
  },
  "language_info": {
   "codemirror_mode": {
    "name": "ipython",
    "version": 3
   },
   "file_extension": ".py",
   "mimetype": "text/x-python",
   "name": "python",
   "nbconvert_exporter": "python",
   "pygments_lexer": "ipython3",
   "version": "3.11.5"
  }
 },
 "nbformat": 4,
 "nbformat_minor": 2
}
