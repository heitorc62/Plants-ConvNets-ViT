{
 "cells": [
  {
   "cell_type": "markdown",
   "metadata": {},
   "source": [
    "# **Introdução**"
   ]
  },
  {
   "cell_type": "markdown",
   "metadata": {},
   "source": [
    "O objetivo desse trabalho é implementar \"Automated Bias Discover Task\" descrito em: _Discover the Unknown Biased Attribute of an Image Classifier\n",
    "Zhiheng Li, Chenliang Xu_\n",
    "\n",
    "O workflow descrito no paper, pode ser bem resumido pela seguinte imagem:\n",
    "\n",
    "# ![title](images/workflow.png)"
   ]
  },
  {
   "cell_type": "markdown",
   "metadata": {},
   "source": [
    "Percaba que primeiramente precisamos obter um hiperplano do atributo enviesado e, depois disso, a tarefa de encontrar o viés do classificador continua.\n",
    "Nesse sentido, o escopo desse trabalho é, primeiramente obter esse hiperplano otimizado."
   ]
  },
  {
   "cell_type": "markdown",
   "metadata": {},
   "source": [
    "Para fazer isso, precisamos de duas coisas:\n",
    "1. Um classificador enviesado ✅\n",
    "2. Um modelo gerativo capaz de reproduzir a distribuição de probabilidades do dataset desse classificador ✅"
   ]
  },
  {
   "cell_type": "markdown",
   "metadata": {},
   "source": [
    "Como já possuímos esses dois pre-requisitos, podemos implementar esse workflow. É importante perceber que faremos uma abordagem 1 vs all para cada classe no problema. Podendo encontrar diversos vieses presentes nesse dataset, um para cada classe."
   ]
  },
  {
   "cell_type": "markdown",
   "metadata": {},
   "source": [
    "# **Implementação**"
   ]
  },
  {
   "cell_type": "markdown",
   "metadata": {},
   "source": [
    "Para implementar esse precisamos saber a dimensão $d$ do espaço latente do modelo gerativo treinado. Essa será a dimensionalidade do \"hiperplano do atributo enviesado\" que será encontrado."
   ]
  },
  {
   "cell_type": "code",
   "execution_count": 1,
   "metadata": {},
   "outputs": [],
   "source": [
    "import torch\n",
    "from torch import nn\n",
    "from torch import linalg as LA\n",
    "from torchvision import models\n",
    "import sys\n",
    "sys.path.append('../')\n",
    "from StyleGAN.modules.stylegan import Generator\n",
    "from torch import optim\n",
    "import numpy as np\n",
    "import os\n",
    "import matplotlib.pyplot as plt\n",
    "from StyleGAN.modules.utils import get_w"
   ]
  },
  {
   "cell_type": "code",
   "execution_count": 2,
   "metadata": {},
   "outputs": [],
   "source": [
    "class BiasDiscoverer(nn.Module):\n",
    "    def __init__(self, z_dim, generative_model, classifier, num_latent_codes=6, starting_alpha=-3, terminating_alpha=3):\n",
    "        super(BiasDiscoverer, self).__init__()\n",
    "        self.w = nn.Parameter(torch.randn(1, z_dim))\n",
    "        self.b = nn.Parameter(torch.randn(1, 1))\n",
    "        self.alphas = self.get_alphas(num_latent_codes, starting_alpha, terminating_alpha) \n",
    "    \n",
    "    def get_alphas(self, num_alphas, starting_alpha, terminating_alpha):\n",
    "        step = (terminating_alpha - starting_alpha)/num_alphas\n",
    "        alphas = torch.arange(starting_alpha, terminating_alpha, step).unsqueeze(1).unsqueeze(2)\n",
    "        return alphas\n",
    "    \n",
    "    def project_points(self, points, normal_vec, offset):\n",
    "        projected_points = points - normal_vec * (points @ normal_vec.t() + offset / (normal_vec @ normal_vec.T))\n",
    "        return projected_points\n",
    "\n",
    "    def generate_latent_codes(self, z_points):\n",
    "        #z_proj = z_points - ( ( (w.T @ z_points) + b ) / ( LA.vector_norm(w)**2 ) ) @ w\n",
    "        z_proj = self.project_points(z_points, self.w, self.b)\n",
    "        latent_codes = z_proj + ( self.alphas * ( self.w / LA.vector_norm(self.w) ) )\n",
    "        return latent_codes"
   ]
  },
  {
   "cell_type": "code",
   "execution_count": 3,
   "metadata": {},
   "outputs": [],
   "source": [
    "def TotalVARLoss(probs):\n",
    "    return torch.log(1e-10 + torch.abs(probs[:, 1:] - probs[:, :-1]).mean())"
   ]
  },
  {
   "cell_type": "code",
   "execution_count": null,
   "metadata": {},
   "outputs": [],
   "source": [
    "def generate_traversal_images(gen_model, latent_codes, DEVICE, W_DIM, LOG_RESOLUTION):\n",
    "    w = get_w(latent_codes, gen_model.mapping_network, W_DIM, DEVICE, LOG_RESOLUTION) \n",
    "    traversal_images = gen_model.generator(w, latent_codes)\n",
    "    return traversal_images"
   ]
  },
  {
   "cell_type": "code",
   "execution_count": 4,
   "metadata": {},
   "outputs": [],
   "source": [
    "def optimize_hyperplane(bias_discoverer, biased_classifier, gen_model, optimizer, EPOCHS, BATCH_SIZE, Z_DIM, DEVICE):\n",
    "    losses = []\n",
    "    print(\"Starting Training Loop...\")\n",
    "    for epoch in range(EPOCHS):\n",
    "        z_data_points = torch.rand(BATCH_SIZE, Z_DIM)\n",
    "        latent_codes = bias_discoverer.generate_latent_codes(z_data_points)\n",
    "        traversal_images = generate_traversal_images(gen_model, latent_codes)\n",
    "        probs_predictions = biased_classifier(traversal_images)\n",
    "        loss = TotalVARLoss(probs_predictions)\n",
    "        optimizer.zero_grad()\n",
    "        loss.backward()\n",
    "        optimizer.step()\n",
    "        losses.append(loss)\n",
    "\n",
    "    return losses, biased_classifier\n",
    "        "
   ]
  },
  {
   "cell_type": "code",
   "execution_count": 5,
   "metadata": {},
   "outputs": [],
   "source": [
    "def load_gen_model(PATH, DEVICE, LOG_RESOLUTION=8, W_DIM=256):\n",
    "    gen = Generator(LOG_RESOLUTION, W_DIM)\n",
    "    gen.load_state_dict(torch.load(PATH, map_location=torch.device('cpu')))\n",
    "    gen.to(DEVICE)\n",
    "    gen.eval()\n",
    "    return gen\n",
    "\n",
    "\n",
    "def load_classifier(PATH, DEVICE, NUM_CLASSES=39):\n",
    "    classifier = models.vgg16_bn()\n",
    "    num_ftrs = classifier.classifier[6].in_features\n",
    "    classifier.classifier[6] = nn.Linear(num_ftrs, NUM_CLASSES)\n",
    "    classifier.load_state_dict(torch.load(PATH, map_location=torch.device('cpu')))\n",
    "    classifier.to(DEVICE)\n",
    "    classifier.eval()\n",
    "    return classifier"
   ]
  },
  {
   "cell_type": "code",
   "execution_count": null,
   "metadata": {},
   "outputs": [],
   "source": [
    "class GenerativeModel():\n",
    "    def __init__(self, generator, mapping_network):\n",
    "        self.generator = generator\n",
    "        self.mapping_network = mapping_network"
   ]
  },
  {
   "cell_type": "code",
   "execution_count": 6,
   "metadata": {},
   "outputs": [],
   "source": [
    "def make_path(path):\n",
    "    dir = os.path.dirname(path)\n",
    "    if dir: \n",
    "        if not os.path.exists(dir):\n",
    "            os.makedirs(dir)\n",
    "\n",
    "def save_statistics(losses, current_dir):\n",
    "    losses_np = np.array([loss for loss in losses])\n",
    "    losses_path = os.path.join(current_dir, \"statistics/losses.csv\")\n",
    "    make_path(losses_path)\n",
    "    np.savetxt(losses_path, losses_np, delimiter=\",\")\n",
    "\n",
    "def save_graphics(losses, current_dir):\n",
    "    plt.figure(figsize=(10,5))\n",
    "    plt.title(\"Total Variation Loss During Training\")\n",
    "    plt.plot(losses)\n",
    "    plt.xlabel(\"Epochs\")\n",
    "    plt.ylabel(\"Loss\")\n",
    "    plot_path = os.path.join(current_dir, \"statistics/training_loss_plot.png\")\n",
    "    make_path(plot_path)\n",
    "    plt.savefig(plot_path)\n",
    "    plt.close()  "
   ]
  },
  {
   "cell_type": "code",
   "execution_count": 7,
   "metadata": {},
   "outputs": [],
   "source": [
    "def main():\n",
    "    # Z_DIM = args.Z_DIM\n",
    "    # LEARNING_RATE = args.LEARNING_RATE\n",
    "    # EPOCHS = args.EPOCHS\n",
    "    # BATCH_SIZE = args.BATCH_SIZE\n",
    "    # DEVICE = args.DEVICE\n",
    "    # GENERATOR_PATH = args.GENERATOR_PATH\n",
    "    # CLASSIFIER_PATH = args.CLASSIFIER_PATH\n",
    "\n",
    "    Z_DIM = 256\n",
    "    LEARNING_RATE = 0.001\n",
    "    EPOCHS = 1\n",
    "    BATCH_SIZE = 32\n",
    "    DEVICE = \"cpu\"\n",
    "    GENERATOR_PATH = \"../StyleGAN/trained_models/netG.pth\"\n",
    "    CLASSIFIER_PATH = \"../../../Classifier/models/model.pth\"\n",
    "\n",
    "    mapping_network = 1\n",
    "\n",
    "    gen_model = GenerativeModel(load_gen_model(GENERATOR_PATH, DEVICE), mapping_network)\n",
    "\n",
    "    biased_classifier = load_classifier(CLASSIFIER_PATH, DEVICE)\n",
    "\n",
    "    bias_discoverer = BiasDiscoverer(Z_DIM, gen_model, biased_classifier)\n",
    "\n",
    "    optimizer = optim.Adam(bias_discoverer.parameters(), lr=LEARNING_RATE)\n",
    "    \n",
    "    losses = optimize_hyperplane(bias_discoverer, optimizer, EPOCHS, BATCH_SIZE, Z_DIM, DEVICE)\n",
    "\n",
    "    save_statistics(losses)\n",
    "    "
   ]
  },
  {
   "cell_type": "code",
   "execution_count": 8,
   "metadata": {},
   "outputs": [
    {
     "name": "stdout",
     "output_type": "stream",
     "text": [
      "Starting Training Loop...\n"
     ]
    },
    {
     "ename": "TypeError",
     "evalue": "Generator.forward() missing 1 required positional argument: 'input_noise'",
     "output_type": "error",
     "traceback": [
      "\u001b[0;31m---------------------------------------------------------------------------\u001b[0m",
      "\u001b[0;31mTypeError\u001b[0m                                 Traceback (most recent call last)",
      "\u001b[1;32m/home/heitor/USP/IC/FAPESP/code_dataset/Plants-ConvNets-ViT/BiasDiscover/Automated workflow/BiasDiscoverTask/bias_discover.ipynb Cell 15\u001b[0m line \u001b[0;36m1\n\u001b[0;32m----> <a href='vscode-notebook-cell:/home/heitor/USP/IC/FAPESP/code_dataset/Plants-ConvNets-ViT/BiasDiscover/Automated%20workflow/BiasDiscoverTask/bias_discover.ipynb#X22sZmlsZQ%3D%3D?line=0'>1</a>\u001b[0m main()\n",
      "\u001b[1;32m/home/heitor/USP/IC/FAPESP/code_dataset/Plants-ConvNets-ViT/BiasDiscover/Automated workflow/BiasDiscoverTask/bias_discover.ipynb Cell 15\u001b[0m line \u001b[0;36m2\n\u001b[1;32m     <a href='vscode-notebook-cell:/home/heitor/USP/IC/FAPESP/code_dataset/Plants-ConvNets-ViT/BiasDiscover/Automated%20workflow/BiasDiscoverTask/bias_discover.ipynb#X22sZmlsZQ%3D%3D?line=21'>22</a>\u001b[0m bias_discoverer \u001b[39m=\u001b[39m BiasDiscoverer(Z_DIM, gen_model, biased_classifier)\n\u001b[1;32m     <a href='vscode-notebook-cell:/home/heitor/USP/IC/FAPESP/code_dataset/Plants-ConvNets-ViT/BiasDiscover/Automated%20workflow/BiasDiscoverTask/bias_discover.ipynb#X22sZmlsZQ%3D%3D?line=23'>24</a>\u001b[0m optimizer \u001b[39m=\u001b[39m optim\u001b[39m.\u001b[39mAdam(bias_discoverer\u001b[39m.\u001b[39mparameters(), lr\u001b[39m=\u001b[39mLEARNING_RATE)\n\u001b[0;32m---> <a href='vscode-notebook-cell:/home/heitor/USP/IC/FAPESP/code_dataset/Plants-ConvNets-ViT/BiasDiscover/Automated%20workflow/BiasDiscoverTask/bias_discover.ipynb#X22sZmlsZQ%3D%3D?line=25'>26</a>\u001b[0m losses \u001b[39m=\u001b[39m optimize_hyperplane(bias_discoverer, optimizer, EPOCHS, BATCH_SIZE, Z_DIM, DEVICE)\n\u001b[1;32m     <a href='vscode-notebook-cell:/home/heitor/USP/IC/FAPESP/code_dataset/Plants-ConvNets-ViT/BiasDiscover/Automated%20workflow/BiasDiscoverTask/bias_discover.ipynb#X22sZmlsZQ%3D%3D?line=27'>28</a>\u001b[0m save_statistics(losses)\n",
      "\u001b[1;32m/home/heitor/USP/IC/FAPESP/code_dataset/Plants-ConvNets-ViT/BiasDiscover/Automated workflow/BiasDiscoverTask/bias_discover.ipynb Cell 15\u001b[0m line \u001b[0;36m6\n\u001b[1;32m      <a href='vscode-notebook-cell:/home/heitor/USP/IC/FAPESP/code_dataset/Plants-ConvNets-ViT/BiasDiscover/Automated%20workflow/BiasDiscoverTask/bias_discover.ipynb#X22sZmlsZQ%3D%3D?line=3'>4</a>\u001b[0m \u001b[39mfor\u001b[39;00m epoch \u001b[39min\u001b[39;00m \u001b[39mrange\u001b[39m(EPOCHS):\n\u001b[1;32m      <a href='vscode-notebook-cell:/home/heitor/USP/IC/FAPESP/code_dataset/Plants-ConvNets-ViT/BiasDiscover/Automated%20workflow/BiasDiscoverTask/bias_discover.ipynb#X22sZmlsZQ%3D%3D?line=4'>5</a>\u001b[0m     z_data_points \u001b[39m=\u001b[39m torch\u001b[39m.\u001b[39mrand(BATCH_SIZE, Z_DIM)\n\u001b[0;32m----> <a href='vscode-notebook-cell:/home/heitor/USP/IC/FAPESP/code_dataset/Plants-ConvNets-ViT/BiasDiscover/Automated%20workflow/BiasDiscoverTask/bias_discover.ipynb#X22sZmlsZQ%3D%3D?line=5'>6</a>\u001b[0m     probs_predictions \u001b[39m=\u001b[39m bias_discoverer\u001b[39m.\u001b[39;49mforward(z_data_points)\n\u001b[1;32m      <a href='vscode-notebook-cell:/home/heitor/USP/IC/FAPESP/code_dataset/Plants-ConvNets-ViT/BiasDiscover/Automated%20workflow/BiasDiscoverTask/bias_discover.ipynb#X22sZmlsZQ%3D%3D?line=6'>7</a>\u001b[0m     loss \u001b[39m=\u001b[39m TotalVARLoss(probs_predictions)\n\u001b[1;32m      <a href='vscode-notebook-cell:/home/heitor/USP/IC/FAPESP/code_dataset/Plants-ConvNets-ViT/BiasDiscover/Automated%20workflow/BiasDiscoverTask/bias_discover.ipynb#X22sZmlsZQ%3D%3D?line=7'>8</a>\u001b[0m     optimizer\u001b[39m.\u001b[39mzero_grad()\n",
      "\u001b[1;32m/home/heitor/USP/IC/FAPESP/code_dataset/Plants-ConvNets-ViT/BiasDiscover/Automated workflow/BiasDiscoverTask/bias_discover.ipynb Cell 15\u001b[0m line \u001b[0;36m3\n\u001b[1;32m     <a href='vscode-notebook-cell:/home/heitor/USP/IC/FAPESP/code_dataset/Plants-ConvNets-ViT/BiasDiscover/Automated%20workflow/BiasDiscoverTask/bias_discover.ipynb#X22sZmlsZQ%3D%3D?line=29'>30</a>\u001b[0m \u001b[39mdef\u001b[39;00m \u001b[39mforward\u001b[39m(\u001b[39mself\u001b[39m, z_points):\n\u001b[1;32m     <a href='vscode-notebook-cell:/home/heitor/USP/IC/FAPESP/code_dataset/Plants-ConvNets-ViT/BiasDiscover/Automated%20workflow/BiasDiscoverTask/bias_discover.ipynb#X22sZmlsZQ%3D%3D?line=30'>31</a>\u001b[0m     latent_codes \u001b[39m=\u001b[39m \u001b[39mself\u001b[39m\u001b[39m.\u001b[39mgenerate_latent_codes(z_points)\n\u001b[0;32m---> <a href='vscode-notebook-cell:/home/heitor/USP/IC/FAPESP/code_dataset/Plants-ConvNets-ViT/BiasDiscover/Automated%20workflow/BiasDiscoverTask/bias_discover.ipynb#X22sZmlsZQ%3D%3D?line=31'>32</a>\u001b[0m     traversal_images \u001b[39m=\u001b[39m \u001b[39mself\u001b[39;49m\u001b[39m.\u001b[39;49mgenerative_model(latent_codes)\n\u001b[1;32m     <a href='vscode-notebook-cell:/home/heitor/USP/IC/FAPESP/code_dataset/Plants-ConvNets-ViT/BiasDiscover/Automated%20workflow/BiasDiscoverTask/bias_discover.ipynb#X22sZmlsZQ%3D%3D?line=32'>33</a>\u001b[0m     probs \u001b[39m=\u001b[39m \u001b[39mself\u001b[39m\u001b[39m.\u001b[39mbiased_classifier(traversal_images)\n\u001b[1;32m     <a href='vscode-notebook-cell:/home/heitor/USP/IC/FAPESP/code_dataset/Plants-ConvNets-ViT/BiasDiscover/Automated%20workflow/BiasDiscoverTask/bias_discover.ipynb#X22sZmlsZQ%3D%3D?line=33'>34</a>\u001b[0m     \u001b[39mreturn\u001b[39;00m probs\n",
      "File \u001b[0;32m~/miniconda3/envs/IC/lib/python3.11/site-packages/torch/nn/modules/module.py:1518\u001b[0m, in \u001b[0;36mModule._wrapped_call_impl\u001b[0;34m(self, *args, **kwargs)\u001b[0m\n\u001b[1;32m   1516\u001b[0m     \u001b[39mreturn\u001b[39;00m \u001b[39mself\u001b[39m\u001b[39m.\u001b[39m_compiled_call_impl(\u001b[39m*\u001b[39margs, \u001b[39m*\u001b[39m\u001b[39m*\u001b[39mkwargs)  \u001b[39m# type: ignore[misc]\u001b[39;00m\n\u001b[1;32m   1517\u001b[0m \u001b[39melse\u001b[39;00m:\n\u001b[0;32m-> 1518\u001b[0m     \u001b[39mreturn\u001b[39;00m \u001b[39mself\u001b[39;49m\u001b[39m.\u001b[39;49m_call_impl(\u001b[39m*\u001b[39;49margs, \u001b[39m*\u001b[39;49m\u001b[39m*\u001b[39;49mkwargs)\n",
      "File \u001b[0;32m~/miniconda3/envs/IC/lib/python3.11/site-packages/torch/nn/modules/module.py:1527\u001b[0m, in \u001b[0;36mModule._call_impl\u001b[0;34m(self, *args, **kwargs)\u001b[0m\n\u001b[1;32m   1522\u001b[0m \u001b[39m# If we don't have any hooks, we want to skip the rest of the logic in\u001b[39;00m\n\u001b[1;32m   1523\u001b[0m \u001b[39m# this function, and just call forward.\u001b[39;00m\n\u001b[1;32m   1524\u001b[0m \u001b[39mif\u001b[39;00m \u001b[39mnot\u001b[39;00m (\u001b[39mself\u001b[39m\u001b[39m.\u001b[39m_backward_hooks \u001b[39mor\u001b[39;00m \u001b[39mself\u001b[39m\u001b[39m.\u001b[39m_backward_pre_hooks \u001b[39mor\u001b[39;00m \u001b[39mself\u001b[39m\u001b[39m.\u001b[39m_forward_hooks \u001b[39mor\u001b[39;00m \u001b[39mself\u001b[39m\u001b[39m.\u001b[39m_forward_pre_hooks\n\u001b[1;32m   1525\u001b[0m         \u001b[39mor\u001b[39;00m _global_backward_pre_hooks \u001b[39mor\u001b[39;00m _global_backward_hooks\n\u001b[1;32m   1526\u001b[0m         \u001b[39mor\u001b[39;00m _global_forward_hooks \u001b[39mor\u001b[39;00m _global_forward_pre_hooks):\n\u001b[0;32m-> 1527\u001b[0m     \u001b[39mreturn\u001b[39;00m forward_call(\u001b[39m*\u001b[39;49margs, \u001b[39m*\u001b[39;49m\u001b[39m*\u001b[39;49mkwargs)\n\u001b[1;32m   1529\u001b[0m \u001b[39mtry\u001b[39;00m:\n\u001b[1;32m   1530\u001b[0m     result \u001b[39m=\u001b[39m \u001b[39mNone\u001b[39;00m\n",
      "\u001b[0;31mTypeError\u001b[0m: Generator.forward() missing 1 required positional argument: 'input_noise'"
     ]
    }
   ],
   "source": [
    "main()"
   ]
  }
 ],
 "metadata": {
  "kernelspec": {
   "display_name": "IC",
   "language": "python",
   "name": "python3"
  },
  "language_info": {
   "codemirror_mode": {
    "name": "ipython",
    "version": 3
   },
   "file_extension": ".py",
   "mimetype": "text/x-python",
   "name": "python",
   "nbconvert_exporter": "python",
   "pygments_lexer": "ipython3",
   "version": "3.11.5"
  }
 },
 "nbformat": 4,
 "nbformat_minor": 2
}
