{
 "cells": [
  {
   "cell_type": "code",
   "execution_count": 1,
   "metadata": {},
   "outputs": [],
   "source": [
    "import matplotlib.pyplot as plt\n",
    "import os\n",
    "from PIL import Image"
   ]
  },
  {
   "cell_type": "code",
   "execution_count": 2,
   "metadata": {},
   "outputs": [],
   "source": [
    "base_dir = \"results\"\n",
    "images_dict = {}\n",
    "for dir in os.listdir(base_dir):\n",
    "    images_dict[f\"{dir}\"] = []\n",
    "    for file in os.listdir(os.path.join(base_dir,dir)):\n",
    "        images_dict[f\"{dir}\"].append(os.path.join(os.path.join(base_dir, dir), file))\n",
    "    images_dict[f\"{dir}\"].sort()"
   ]
  },
  {
   "cell_type": "code",
   "execution_count": 3,
   "metadata": {},
   "outputs": [],
   "source": [
    "keys = list(images_dict.keys())\n",
    "rows_per_plot = 8\n",
    "dir = os.makedirs(f\"compiled_results\", exist_ok=True)\n",
    "for i in range(0,len(keys), rows_per_plot):\n",
    "    chunk_keys = keys[i:(i+rows_per_plot)]\n",
    "    # Initialize the plot\n",
    "    fig, axs = plt.subplots(rows_per_plot, 4, figsize=(5, 10))  # 8 rows, 4 columns\n",
    "    fig.subplots_adjust(hspace=0.5, wspace=0.5)\n",
    "\n",
    "    for ax_row, key in zip(axs, chunk_keys):\n",
    "        image_paths = images_dict[key]\n",
    "        for ax, image_path in zip(ax_row, image_paths):\n",
    "            # Load and display each image\n",
    "            with Image.open(image_path) as img:\n",
    "                ax.imshow(img)\n",
    "                ax.axis('off')  # Hide axes\n",
    "\n",
    "    plt.tight_layout()\n",
    "    plt.savefig(os.path.join(\"compiled_results\", f\"compiled_image_{i}.png\"))\n",
    "    plt.close()"
   ]
  },
  {
   "cell_type": "code",
   "execution_count": null,
   "metadata": {},
   "outputs": [],
   "source": []
  }
 ],
 "metadata": {
  "kernelspec": {
   "display_name": "IC",
   "language": "python",
   "name": "python3"
  },
  "language_info": {
   "codemirror_mode": {
    "name": "ipython",
    "version": 3
   },
   "file_extension": ".py",
   "mimetype": "text/x-python",
   "name": "python",
   "nbconvert_exporter": "python",
   "pygments_lexer": "ipython3",
   "version": "3.11.5"
  }
 },
 "nbformat": 4,
 "nbformat_minor": 2
}
