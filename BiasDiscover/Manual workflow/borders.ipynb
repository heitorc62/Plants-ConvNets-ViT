{
 "cells": [
  {
   "cell_type": "code",
   "execution_count": 1,
   "metadata": {},
   "outputs": [],
   "source": [
    "import cv2\n",
    "import numpy as np\n",
    "import os\n",
    "from tqdm.notebook import tqdm"
   ]
  },
  {
   "cell_type": "code",
   "execution_count": null,
   "metadata": {},
   "outputs": [],
   "source": [
    "# Load the image\n",
    "image = cv2.imread('Plant_leave_diseases_dataset_with_augmentation/Apple___Apple_scab/image (1).JPG')"
   ]
  },
  {
   "cell_type": "code",
   "execution_count": null,
   "metadata": {},
   "outputs": [],
   "source": [
    "# Create a black mask of the same size as the image\n",
    "mask = np.zeros_like(image)\n",
    "\n",
    "# Set the outermost 8 pixels of the mask to white (or 255 for all 3 channels in case of a color image)\n",
    "mask[:8, :] = 255\n",
    "mask[-8:, :] = 255\n",
    "mask[:, :8] = 255\n",
    "mask[:, -8:] = 255"
   ]
  },
  {
   "cell_type": "code",
   "execution_count": null,
   "metadata": {},
   "outputs": [],
   "source": [
    "# Use the mask to remove the inner part of the image\n",
    "result = cv2.bitwise_and(image, mask)"
   ]
  },
  {
   "cell_type": "code",
   "execution_count": null,
   "metadata": {},
   "outputs": [],
   "source": [
    "# Save the result\n",
    "cv2.imwrite('output_image.jpg', result)"
   ]
  },
  {
   "cell_type": "code",
   "execution_count": 2,
   "metadata": {},
   "outputs": [],
   "source": [
    "def process_image(img_path):\n",
    "    # Load the image\n",
    "    image = cv2.imread(img_path)\n",
    "\n",
    "    # Create a black mask of the same size as the image\n",
    "    mask = np.zeros_like(image)\n",
    "\n",
    "    # Set the outermost 8 pixels of the mask to white\n",
    "    mask[:8, :] = 255\n",
    "    mask[-8:, :] = 255\n",
    "    mask[:, :8] = 255\n",
    "    mask[:, -8:] = 255\n",
    "\n",
    "    # Use the mask to remove the inner part of the image\n",
    "    return cv2.bitwise_and(image, mask)\n"
   ]
  },
  {
   "cell_type": "code",
   "execution_count": 3,
   "metadata": {},
   "outputs": [],
   "source": [
    "def process_directory_structure(src_dir, dest_dir):\n",
    "    # Iterate over each subdirectory\n",
    "    for subdir, _, files in tqdm(os.walk(src_dir)):\n",
    "        for file in files:\n",
    "            # Construct the full file path\n",
    "            src_file_path = os.path.join(subdir, file)\n",
    "\n",
    "            # Construct the destination file path\n",
    "            relative_path = os.path.relpath(subdir, src_dir)\n",
    "            dest_subdir = os.path.join(dest_dir, relative_path)\n",
    "            dest_file_path = os.path.join(dest_subdir, file)\n",
    "\n",
    "            # Create the destination directory if it doesn't exist\n",
    "            if not os.path.exists(dest_subdir):\n",
    "                os.makedirs(dest_subdir)\n",
    "\n",
    "            # Process the image\n",
    "            processed_img = process_image(src_file_path)\n",
    "\n",
    "            # Save the processed image to the destination path\n",
    "            cv2.imwrite(dest_file_path, processed_img)\n"
   ]
  },
  {
   "cell_type": "code",
   "execution_count": 4,
   "metadata": {},
   "outputs": [
    {
     "data": {
      "application/vnd.jupyter.widget-view+json": {
       "model_id": "484a791058de4f90a12a64f4ef673ff6",
       "version_major": 2,
       "version_minor": 0
      },
      "text/plain": [
       "0it [00:00, ?it/s]"
      ]
     },
     "metadata": {},
     "output_type": "display_data"
    }
   ],
   "source": [
    "process_directory_structure('Plant_leave_diseases_dataset_without_augmentation', 'Borders_dataset')"
   ]
  }
 ],
 "metadata": {
  "kernelspec": {
   "display_name": "base",
   "language": "python",
   "name": "python3"
  },
  "language_info": {
   "codemirror_mode": {
    "name": "ipython",
    "version": 3
   },
   "file_extension": ".py",
   "mimetype": "text/x-python",
   "name": "python",
   "nbconvert_exporter": "python",
   "pygments_lexer": "ipython3",
   "version": "3.10.12"
  },
  "orig_nbformat": 4
 },
 "nbformat": 4,
 "nbformat_minor": 2
}
