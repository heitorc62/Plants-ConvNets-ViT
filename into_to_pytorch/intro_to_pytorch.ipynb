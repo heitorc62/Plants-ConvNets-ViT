{
 "cells": [
  {
   "cell_type": "code",
   "execution_count": 2,
   "metadata": {},
   "outputs": [
    {
     "name": "stdout",
     "output_type": "stream",
     "text": [
      "2.0.1\n"
     ]
    }
   ],
   "source": [
    "import torch\n",
    "import pandas as pd\n",
    "import numpy as np\n",
    "import matplotlib.pyplot as plt\n",
    "print(torch.__version__)"
   ]
  },
  {
   "attachments": {},
   "cell_type": "markdown",
   "metadata": {},
   "source": [
    "#### **Creating tensors with torch.Tensor()**"
   ]
  },
  {
   "cell_type": "code",
   "execution_count": 3,
   "metadata": {},
   "outputs": [
    {
     "name": "stdout",
     "output_type": "stream",
     "text": [
      "tensor(3.1416)\n",
      "0\n",
      "3.141590118408203\n"
     ]
    }
   ],
   "source": [
    "# scalar\n",
    "scalar = torch.tensor(3.14159)\n",
    "print(scalar)\n",
    "print(scalar.ndim)\n",
    "\n",
    "# Retrieve Python int from tensor:\n",
    "print(scalar.item())"
   ]
  },
  {
   "cell_type": "code",
   "execution_count": 4,
   "metadata": {},
   "outputs": [
    {
     "name": "stdout",
     "output_type": "stream",
     "text": [
      "tensor([1, 5])\n",
      "1\n",
      "torch.Size([2])\n"
     ]
    }
   ],
   "source": [
    "# vector\n",
    "vector = torch.tensor([1, 5])\n",
    "print(vector)\n",
    "print(vector.ndim)\n",
    "print(vector.shape)"
   ]
  },
  {
   "cell_type": "code",
   "execution_count": 5,
   "metadata": {},
   "outputs": [
    {
     "name": "stdout",
     "output_type": "stream",
     "text": [
      "2\n",
      "torch.Size([2, 2])\n"
     ]
    }
   ],
   "source": [
    "# matrix\n",
    "matrix = torch.tensor([[7, 8],\n",
    "                       [9, 10]])\n",
    "\n",
    "print(matrix.ndim)\n",
    "print(matrix.shape)"
   ]
  },
  {
   "cell_type": "code",
   "execution_count": 6,
   "metadata": {},
   "outputs": [
    {
     "name": "stdout",
     "output_type": "stream",
     "text": [
      "3\n",
      "torch.Size([1, 3, 3])\n",
      "torch.Size([1, 3, 3])\n"
     ]
    }
   ],
   "source": [
    "# tensor\n",
    "tensor = torch.tensor([[[1, 2, 3],\n",
    "                        [4, 5, 6],\n",
    "                        [7, 8, 9]]])\n",
    "\n",
    "print(tensor.ndim)\n",
    "print(tensor.shape)\n",
    "print(tensor.size())\n"
   ]
  },
  {
   "attachments": {},
   "cell_type": "markdown",
   "metadata": {},
   "source": [
    "#### **Creating random tensor**\n",
    "This is important for random weights initialization, for example."
   ]
  },
  {
   "cell_type": "code",
   "execution_count": 7,
   "metadata": {},
   "outputs": [
    {
     "name": "stdout",
     "output_type": "stream",
     "text": [
      "tensor([[0.0833, 0.7397, 0.4310, 0.4233],\n",
      "        [0.1110, 0.5024, 0.0225, 0.8073],\n",
      "        [0.8224, 0.0529, 0.8095, 0.0207]])\n",
      "torch.Size([3, 4])\n",
      "2\n"
     ]
    }
   ],
   "source": [
    "# create random tensor of shape [3, 4]\n",
    "random_tensor = torch.rand(3, 4)\n",
    "print(random_tensor)\n",
    "print(random_tensor.shape)\n",
    "print(random_tensor.ndim)"
   ]
  },
  {
   "attachments": {},
   "cell_type": "markdown",
   "metadata": {},
   "source": [
    "#### **Random tensor following the format of an image**"
   ]
  },
  {
   "cell_type": "code",
   "execution_count": 9,
   "metadata": {},
   "outputs": [
    {
     "data": {
      "text/plain": [
       "(torch.Size([3, 256, 256]), 3)"
      ]
     },
     "execution_count": 9,
     "metadata": {},
     "output_type": "execute_result"
    }
   ],
   "source": [
    "random_tensor_image = torch.rand(size=(3, 256, 256))\n",
    "random_tensor_image.shape, random_tensor_image.ndim"
   ]
  },
  {
   "attachments": {},
   "cell_type": "markdown",
   "metadata": {},
   "source": [
    "#### **Zeros and ones tensors**"
   ]
  },
  {
   "cell_type": "code",
   "execution_count": 31,
   "metadata": {},
   "outputs": [
    {
     "data": {
      "text/plain": [
       "(tensor([[0., 0., 0., 0.],\n",
       "         [0., 0., 0., 0.],\n",
       "         [0., 0., 0., 0.]]),\n",
       " tensor([[1., 1., 1., 1.],\n",
       "         [1., 1., 1., 1.],\n",
       "         [1., 1., 1., 1.]]))"
      ]
     },
     "execution_count": 31,
     "metadata": {},
     "output_type": "execute_result"
    }
   ],
   "source": [
    "zeros = torch.zeros(size=(3,4))\n",
    "\n",
    "ones = torch.ones(size=(3,4))\n",
    "\n",
    "zeros, ones"
   ]
  },
  {
   "attachments": {},
   "cell_type": "markdown",
   "metadata": {},
   "source": [
    "#### **Creating tensors in certain range**"
   ]
  },
  {
   "cell_type": "code",
   "execution_count": 33,
   "metadata": {},
   "outputs": [
    {
     "name": "stdout",
     "output_type": "stream",
     "text": [
      "tensor([ 0,  1,  2,  3,  4,  5,  6,  7,  8,  9, 10])\n"
     ]
    }
   ],
   "source": [
    "one_to_ten = torch.arange(start=0, end=11, step=1)\n",
    "print(one_to_ten)"
   ]
  },
  {
   "attachments": {},
   "cell_type": "markdown",
   "metadata": {},
   "source": [
    "#### **Creating tensors like**\n",
    "With this, we are able to create tensors that have the same shape than other tensors."
   ]
  },
  {
   "cell_type": "code",
   "execution_count": 34,
   "metadata": {},
   "outputs": [
    {
     "data": {
      "text/plain": [
       "tensor([0, 0, 0, 0, 0, 0, 0, 0, 0, 0, 0])"
      ]
     },
     "execution_count": 34,
     "metadata": {},
     "output_type": "execute_result"
    }
   ],
   "source": [
    "ten_zeros = torch.zeros_like(input=one_to_ten)\n",
    "ten_zeros"
   ]
  },
  {
   "attachments": {},
   "cell_type": "markdown",
   "metadata": {},
   "source": [
    "#### **Torch data type:**\n",
    "The default datatype of pytorch is float32 (rarely int64). We can change it.\n",
    "**Note:** Tensors datatypes is one of the most common errors you'll run into with Pytorch and Deep Learning code.\n",
    "\n",
    "1. Tensors not right datatype\n",
    "2. Tensors not right shape\n",
    "3. Tensors not on the right device"
   ]
  },
  {
   "cell_type": "code",
   "execution_count": 10,
   "metadata": {},
   "outputs": [
    {
     "name": "stdout",
     "output_type": "stream",
     "text": [
      "torch.float32\n",
      "torch.int64\n",
      "torch.float16\n",
      "torch.float16\n",
      "torch.int64\n",
      "torch.int64\n"
     ]
    }
   ],
   "source": [
    "float_32_tensor = torch.tensor([3.0, 5.7, 9])\n",
    "print(float_32_tensor.dtype)\n",
    "int_64_tensor = torch.tensor([3, 5, 9])\n",
    "print(int_64_tensor.dtype)\n",
    "\n",
    "# Changing dtype:\n",
    "float_16_tensor = torch.tensor([3, 5, 6],\n",
    "                           dtype = torch.float16)\n",
    "print(float_16_tensor.dtype)\n",
    "# or:\n",
    "\n",
    "float_16_tensor = float_32_tensor.type(torch.float16)\n",
    "print(float_16_tensor.dtype)\n",
    "# The following fails to change the dtype!\n",
    "none_tensor = torch.tensor([3, 5, 6],\n",
    "                           dtype = None)\n",
    "print(none_tensor.dtype)\n",
    "\n",
    "example_tensor = torch.tensor([2, 5, 6],\n",
    "                              dtype=None,  # what datatype is the tensor (e.g float32, float16)\n",
    "                              device=None, # \n",
    "                              requires_grad=False)\n",
    "print(example_tensor.dtype)"
   ]
  },
  {
   "attachments": {},
   "cell_type": "markdown",
   "metadata": {},
   "source": [
    "**More about item 3:** \n",
    "\n",
    "When you try to compute operations between a tensor that is running on a device (e.g GPU) and a tensor that is running on another device (e.g CPU), Pytorch throws you an error."
   ]
  },
  {
   "attachments": {},
   "cell_type": "markdown",
   "metadata": {},
   "source": [
    "**The field** `requires_grad` is if you want Pytorch to track the gradients of this tensor. (Weight matrices in a NN). "
   ]
  },
  {
   "attachments": {},
   "cell_type": "markdown",
   "metadata": {},
   "source": [
    "#### **Getting important information from tensors**\n",
    "\n",
    "1. `tensor.dtype`\n",
    "2. `tensor.shape`\n",
    "3. `tensor.device`"
   ]
  },
  {
   "cell_type": "code",
   "execution_count": 12,
   "metadata": {},
   "outputs": [
    {
     "name": "stdout",
     "output_type": "stream",
     "text": [
      "tensor([[0.8670, 0.0928, 0.7413, 0.1879],\n",
      "        [0.5399, 0.1544, 0.4794, 0.0671],\n",
      "        [0.2780, 0.6215, 0.2664, 0.7347],\n",
      "        [0.6546, 0.6626, 0.0857, 0.3111]])\n",
      "Datatype of tensor: torch.float32\n",
      "Shape of tensor: torch.Size([4, 4])\n",
      "Device of tensor: cpu\n"
     ]
    }
   ],
   "source": [
    "# Create a tensor\n",
    "some_tensor = torch.rand(size=(4,4))\n",
    "\n",
    "# Find out details about some tensor\n",
    "print(some_tensor)\n",
    "print(f\"Datatype of tensor: {some_tensor.dtype}\\nShape of tensor: {some_tensor.shape}\\nDevice of tensor: {some_tensor.device}\")"
   ]
  },
  {
   "attachments": {},
   "cell_type": "markdown",
   "metadata": {},
   "source": [
    "### **Manipulating Tensors (tensor operations)**\n",
    "Tensor operations include:\n",
    " * Addition\n",
    " * Subtraction\n",
    " * Multiplication (element-wise)\n",
    " * Division\n",
    " * Matrix multiplication"
   ]
  },
  {
   "attachments": {},
   "cell_type": "markdown",
   "metadata": {},
   "source": [
    "#### **Operations with scalars:**"
   ]
  },
  {
   "cell_type": "code",
   "execution_count": 16,
   "metadata": {},
   "outputs": [
    {
     "name": "stdout",
     "output_type": "stream",
     "text": [
      "tensor([2, 3, 4])\n",
      "tensor([0, 1, 2])\n",
      "tensor([1, 4, 9])\n",
      "tensor([10, 20, 30])\n",
      "tensor([0.5000, 1.0000, 1.5000])\n"
     ]
    }
   ],
   "source": [
    "tensor = torch.tensor([1, 2, 3])\n",
    "print(tensor + 1)\n",
    "print(tensor - 1)\n",
    "print(tensor**2)\n",
    "print(tensor * 10)\n",
    "print(tensor/2)"
   ]
  },
  {
   "attachments": {},
   "cell_type": "markdown",
   "metadata": {},
   "source": [
    "#### **Operations with tensors (element - wise)**"
   ]
  },
  {
   "cell_type": "code",
   "execution_count": 21,
   "metadata": {},
   "outputs": [
    {
     "name": "stdout",
     "output_type": "stream",
     "text": [
      "tensor([3, 3, 4])\n",
      "tensor([-1,  1,  2])\n",
      "tensor([1, 2, 3])\n",
      "tensor([2, 2, 3])\n",
      "tensor([0.5000, 2.0000, 3.0000])\n"
     ]
    }
   ],
   "source": [
    "tensor1 = torch.tensor([1, 2, 3])\n",
    "tensor2 = torch.tensor([2, 1, 1])\n",
    "print(tensor1 + tensor2)\n",
    "print(tensor1 - tensor2)\n",
    "print(tensor**tensor2)\n",
    "print(tensor1*tensor2)\n",
    "print(tensor/tensor2)"
   ]
  },
  {
   "attachments": {},
   "cell_type": "markdown",
   "metadata": {},
   "source": [
    "#### **Matrix Multiplication (dot product of rows and columns)**"
   ]
  },
  {
   "cell_type": "code",
   "execution_count": 22,
   "metadata": {},
   "outputs": [
    {
     "name": "stdout",
     "output_type": "stream",
     "text": [
      "tensor(7)\n"
     ]
    }
   ],
   "source": [
    "tensor1 = torch.tensor([1, 2, 3])\n",
    "tensor2 = torch.tensor([2, 1, 1])\n",
    "print(torch.matmul(tensor1, tensor2))"
   ]
  },
  {
   "attachments": {},
   "cell_type": "markdown",
   "metadata": {},
   "source": [
    "Let's look at the difference in time taken to matmul with Pytorch vs plain Python:"
   ]
  },
  {
   "cell_type": "code",
   "execution_count": 23,
   "metadata": {},
   "outputs": [
    {
     "name": "stdout",
     "output_type": "stream",
     "text": [
      "tensor(7)\n",
      "CPU times: user 2.15 ms, sys: 245 µs, total: 2.39 ms\n",
      "Wall time: 6.48 ms\n"
     ]
    }
   ],
   "source": [
    "%%time\n",
    "value = 0\n",
    "for i in range(len(tensor1)):\n",
    "    value += tensor1[i]*tensor2[i]\n",
    "print(value)"
   ]
  },
  {
   "cell_type": "code",
   "execution_count": 24,
   "metadata": {},
   "outputs": [
    {
     "name": "stdout",
     "output_type": "stream",
     "text": [
      "tensor(7)\n",
      "CPU times: user 853 µs, sys: 97 µs, total: 950 µs\n",
      "Wall time: 761 µs\n"
     ]
    }
   ],
   "source": [
    "%%time\n",
    "print(torch.matmul(tensor1, tensor2))"
   ]
  },
  {
   "cell_type": "code",
   "execution_count": null,
   "metadata": {},
   "outputs": [],
   "source": []
  }
 ],
 "metadata": {
  "kernelspec": {
   "display_name": "base",
   "language": "python",
   "name": "python3"
  },
  "language_info": {
   "codemirror_mode": {
    "name": "ipython",
    "version": 3
   },
   "file_extension": ".py",
   "mimetype": "text/x-python",
   "name": "python",
   "nbconvert_exporter": "python",
   "pygments_lexer": "ipython3",
   "version": "3.10.10"
  },
  "orig_nbformat": 4
 },
 "nbformat": 4,
 "nbformat_minor": 2
}
