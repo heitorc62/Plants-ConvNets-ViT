{
 "cells": [
  {
   "cell_type": "code",
   "execution_count": null,
   "metadata": {},
   "outputs": [],
   "source": [
    "from pytorch_grad_cam import GradCAM\n",
    "from pytorch_grad_cam.utils.image import show_cam_on_image, preprocess_image\n",
    "import cv2\n",
    "import random"
   ]
  },
  {
   "cell_type": "code",
   "execution_count": null,
   "metadata": {},
   "outputs": [],
   "source": [
    "from __future__ import print_function \n",
    "from __future__ import division\n",
    "import torch\n",
    "import torch.nn as nn\n",
    "import torch.optim as optim\n",
    "import numpy as np\n",
    "import torchvision\n",
    "from torchvision import datasets, models, transforms\n",
    "from torchvision.models.vgg import VGG16_BN_Weights\n",
    "from torch.utils.data import random_split\n",
    "import matplotlib.pyplot as plt\n",
    "import time\n",
    "import os\n",
    "import copy\n",
    "print(\"PyTorch Version: \",torch.__version__)\n",
    "print(\"Torchvision Version: \",torchvision.__version__)\n",
    "from sklearn.model_selection import train_test_split\n",
    "from tqdm.notebook import tqdm"
   ]
  },
  {
   "cell_type": "code",
   "execution_count": null,
   "metadata": {},
   "outputs": [],
   "source": [
    "MODEL_PATH = \"../scripts/from_scratch/model.pth\"\n",
    "num_classes = 39"
   ]
  },
  {
   "cell_type": "code",
   "execution_count": null,
   "metadata": {},
   "outputs": [],
   "source": [
    "model_ft = models.vgg16_bn()\n",
    "num_ftrs = model_ft.classifier[6].in_features\n",
    "model_ft.classifier[6] = nn.Linear(num_ftrs,num_classes)\n",
    "model_ft.load_state_dict(torch.load(MODEL_PATH, map_location=torch.device('cpu')))\n",
    "target_layers = [model_ft.features[-1]]\n",
    "model_ft.eval()"
   ]
  },
  {
   "cell_type": "code",
   "execution_count": null,
   "metadata": {},
   "outputs": [],
   "source": [
    "classes_dict = {}\n",
    "BASE_DIR = \"../../dataset/Plant_leave_diseases_dataset_without_augmentation/\"\n",
    "for dir_name in os.listdir(BASE_DIR):\n",
    "    dir_path = os.path.join(BASE_DIR, dir_name)\n",
    "    # Check if it's a directory\n",
    "    if os.path.isdir(dir_path):\n",
    "        # Get all files in the directory\n",
    "        all_files = os.listdir(dir_path)\n",
    "        random_images = random.sample(all_files, 12)\n",
    "        # Append the images to the dictionary with the directory name as the key\n",
    "        classes_dict[dir_name] = []\n",
    "        for image in random_images:\n",
    "            classes_dict[dir_name].append(os.path.join(BASE_DIR, dir_path, image))"
   ]
  },
  {
   "cell_type": "code",
   "execution_count": null,
   "metadata": {},
   "outputs": [],
   "source": [
    "for dir_name, images_list in classes_dict.items():\n",
    "    # Create a figure for the current directory with 10 subplots (1 row x 10 columns)\n",
    "    fig, axes = plt.subplots(4, 6, figsize=(20, 15))\n",
    "    fig.suptitle(dir_name)  # Set the dir\n",
    "    for i in tqdm(range(len(images_list))):\n",
    "        img = cv2.imread(images_list[i], 1)\n",
    "        img = np.float32(img) / 255\n",
    "        # Opencv loads as BGR:\n",
    "        img = cv2.cvtColor(img, cv2.COLOR_BGR2RGB)\n",
    "        input_img = preprocess_image(img)\n",
    "\n",
    "        grad_cam = GradCAM(model=model_ft, target_layers=target_layers, use_cuda=False)\n",
    "\n",
    "        target_category = None\n",
    "\n",
    "        grayscale_cam = grad_cam(input_img, target_category)\n",
    "        grayscale_cam = grayscale_cam[0, :]\n",
    "        cam = show_cam_on_image(img, grayscale_cam, use_rgb=True)\n",
    "\n",
    "        row = i // 3\n",
    "        col = (i % 3) * 2\n",
    "\n",
    "        \n",
    "        axes[row, col].imshow(img)\n",
    "        axes[row, col].axis('off')\n",
    "\n",
    "        axes[row, col + 1].imshow(cam)\n",
    "        axes[row, col + 1].axis('off')\n",
    "\n",
    "    plt.tight_layout()\n",
    "    plt.show()"
   ]
  },
  {
   "cell_type": "markdown",
   "metadata": {},
   "source": [
    "### **Plotting GradCam**"
   ]
  },
  {
   "cell_type": "code",
   "execution_count": null,
   "metadata": {},
   "outputs": [],
   "source": [
    "fig, ax = plt.subplots(1,2)\n",
    "img = cv2.imread(IMAGE_PATH)\n",
    "img = cv2.cvtColor(img, cv2.COLOR_BGR2RGB)\n",
    "cam = cv2.imread(\"./cam.jpg\")\n",
    "cam = cv2.cvtColor(cam, cv2.COLOR_BGR2RGB)\n",
    "ax[0].imshow(img)\n",
    "ax[1].imshow(cam)"
   ]
  }
 ],
 "metadata": {
  "kernelspec": {
   "display_name": "base",
   "language": "python",
   "name": "python3"
  },
  "language_info": {
   "codemirror_mode": {
    "name": "ipython",
    "version": 3
   },
   "file_extension": ".py",
   "mimetype": "text/x-python",
   "name": "python",
   "nbconvert_exporter": "python",
   "pygments_lexer": "ipython3",
   "version": "3.10.12"
  },
  "orig_nbformat": 4
 },
 "nbformat": 4,
 "nbformat_minor": 2
}
