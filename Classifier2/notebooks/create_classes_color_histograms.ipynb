{
 "cells": [
  {
   "cell_type": "code",
   "execution_count": 65,
   "metadata": {},
   "outputs": [],
   "source": [
    "import cv2\n",
    "import numpy as np\n",
    "import os\n",
    "from tqdm.notebook import tqdm\n",
    "import matplotlib.pyplot as plt"
   ]
  },
  {
   "cell_type": "code",
   "execution_count": 66,
   "metadata": {},
   "outputs": [],
   "source": [
    "def make_histogram(class_, files, dest_dir):\n",
    "    # Initialize a histogram of zeros for each channel (BGR)\n",
    "    sum_hist_b = np.zeros((256,))\n",
    "    sum_hist_g = np.zeros((256,))\n",
    "    sum_hist_r = np.zeros((256,))\n",
    "\n",
    "    # Iterate through each file, compute histogram and accumulate\n",
    "    for file in files:\n",
    "        filepath = os.path.join(class_, file)\n",
    "        img = cv2.imread(filepath)\n",
    "\n",
    "        hist_b = cv2.calcHist([img], [0], None, [256], [0, 256]).flatten()\n",
    "        hist_g = cv2.calcHist([img], [1], None, [256], [0, 256]).flatten()\n",
    "        hist_r = cv2.calcHist([img], [2], None, [256], [0, 256]).flatten()\n",
    "\n",
    "        sum_hist_b += hist_b\n",
    "        sum_hist_g += hist_g\n",
    "        sum_hist_r += hist_r\n",
    "\n",
    "    # Calculate average histograms\n",
    "    avg_hist_b = sum_hist_b / len(files)\n",
    "    avg_hist_g = sum_hist_g / len(files)\n",
    "    avg_hist_r = sum_hist_r / len(files)\n",
    "\n",
    "    # Plot the average histograms\n",
    "    plt.figure()\n",
    "    plt.plot(avg_hist_b, color='b')\n",
    "    plt.plot(avg_hist_g, color='g')\n",
    "    plt.plot(avg_hist_r, color='r')\n",
    "    plt.xlim([0, 256])\n",
    "    plt.xlabel(\"Intensity\")\n",
    "    plt.ylabel(\"Frequency\")\n",
    "    plt.title(os.path.basename(class_))\n",
    "    path = os.path.join(dest_dir, os.path.basename(class_))\n",
    "    path += \".jpg\"\n",
    "    plt.savefig(path)\n",
    "    plt.close()"
   ]
  },
  {
   "cell_type": "code",
   "execution_count": 67,
   "metadata": {},
   "outputs": [],
   "source": [
    "def process_directory_structure(src_dir, dest_dir):\n",
    "    all_dirs = list(os.walk(src_dir))\n",
    "    \n",
    "    # Iterate over each directory\n",
    "    for dirpath, _, files in tqdm(all_dirs, desc=\"Processing directories\"):\n",
    "        if len(files) > 0:\n",
    "            print(dirpath, len(files))\n",
    "            make_histogram(dirpath, files, dest_dir)\n",
    "            # input(\"Press Enter to continue...\")"
   ]
  },
  {
   "cell_type": "code",
   "execution_count": 68,
   "metadata": {},
   "outputs": [
    {
     "data": {
      "application/vnd.jupyter.widget-view+json": {
       "model_id": "8f01549a0f1241c7b6dd70282be60fec",
       "version_major": 2,
       "version_minor": 0
      },
      "text/plain": [
       "Processing directories:   0%|          | 0/40 [00:00<?, ?it/s]"
      ]
     },
     "metadata": {},
     "output_type": "display_data"
    },
    {
     "name": "stdout",
     "output_type": "stream",
     "text": [
      "Plant_leave_diseases_dataset_without_augmentation/Soybean___healthy 5090\n",
      "Plant_leave_diseases_dataset_without_augmentation/Peach___healthy 360\n",
      "Plant_leave_diseases_dataset_without_augmentation/Strawberry___healthy 456\n",
      "Plant_leave_diseases_dataset_without_augmentation/Corn___Cercospora_leaf_spot Gray_leaf_spot 513\n",
      "Plant_leave_diseases_dataset_without_augmentation/Tomato___Tomato_mosaic_virus 373\n",
      "Plant_leave_diseases_dataset_without_augmentation/Pepper,_bell___Bacterial_spot 997\n",
      "Plant_leave_diseases_dataset_without_augmentation/Potato___healthy 152\n",
      "Plant_leave_diseases_dataset_without_augmentation/Cherry___healthy 854\n",
      "Plant_leave_diseases_dataset_without_augmentation/Tomato___Septoria_leaf_spot 1771\n",
      "Plant_leave_diseases_dataset_without_augmentation/Corn___Northern_Leaf_Blight 985\n",
      "Plant_leave_diseases_dataset_without_augmentation/Tomato___Leaf_Mold 952\n",
      "Plant_leave_diseases_dataset_without_augmentation/Apple___Black_rot 621\n",
      "Plant_leave_diseases_dataset_without_augmentation/Apple___Apple_scab 630\n",
      "Plant_leave_diseases_dataset_without_augmentation/Apple___Cedar_apple_rust 275\n",
      "Plant_leave_diseases_dataset_without_augmentation/Pepper,_bell___healthy 1478\n",
      "Plant_leave_diseases_dataset_without_augmentation/Potato___Early_blight 1000\n",
      "Plant_leave_diseases_dataset_without_augmentation/Corn___Common_rust 1192\n",
      "Plant_leave_diseases_dataset_without_augmentation/Cherry___Powdery_mildew 1052\n",
      "Plant_leave_diseases_dataset_without_augmentation/Grape___Black_rot 1180\n",
      "Plant_leave_diseases_dataset_without_augmentation/Tomato___Tomato_Yellow_Leaf_Curl_Virus 5357\n",
      "Plant_leave_diseases_dataset_without_augmentation/Tomato___healthy 1591\n",
      "Plant_leave_diseases_dataset_without_augmentation/Tomato___Target_Spot 1404\n",
      "Plant_leave_diseases_dataset_without_augmentation/Tomato___Early_blight 1000\n",
      "Plant_leave_diseases_dataset_without_augmentation/Corn___healthy 1162\n",
      "Plant_leave_diseases_dataset_without_augmentation/Orange___Haunglongbing_(Citrus_greening) 5507\n",
      "Plant_leave_diseases_dataset_without_augmentation/Peach___Bacterial_spot 2297\n",
      "Plant_leave_diseases_dataset_without_augmentation/Grape___healthy 423\n",
      "Plant_leave_diseases_dataset_without_augmentation/Tomato___Spider_mites Two-spotted_spider_mite 1676\n",
      "Plant_leave_diseases_dataset_without_augmentation/Tomato___Bacterial_spot 2127\n",
      "Plant_leave_diseases_dataset_without_augmentation/Apple___healthy 1645\n",
      "Plant_leave_diseases_dataset_without_augmentation/Grape___Leaf_blight_(Isariopsis_Leaf_Spot) 1076\n",
      "Plant_leave_diseases_dataset_without_augmentation/Tomato___Late_blight 1909\n",
      "Plant_leave_diseases_dataset_without_augmentation/Strawberry___Leaf_scorch 1109\n",
      "Plant_leave_diseases_dataset_without_augmentation/Potato___Late_blight 1000\n",
      "Plant_leave_diseases_dataset_without_augmentation/Grape___Esca_(Black_Measles) 1383\n",
      "Plant_leave_diseases_dataset_without_augmentation/Squash___Powdery_mildew 1835\n",
      "Plant_leave_diseases_dataset_without_augmentation/Blueberry___healthy 1502\n",
      "Plant_leave_diseases_dataset_without_augmentation/Background_without_leaves 1143\n",
      "Plant_leave_diseases_dataset_without_augmentation/Raspberry___healthy 371\n"
     ]
    }
   ],
   "source": [
    "process_directory_structure(\"Plant_leave_diseases_dataset_without_augmentation\", \"Classes_histograms\")"
   ]
  }
 ],
 "metadata": {
  "kernelspec": {
   "display_name": "base",
   "language": "python",
   "name": "python3"
  },
  "language_info": {
   "codemirror_mode": {
    "name": "ipython",
    "version": 3
   },
   "file_extension": ".py",
   "mimetype": "text/x-python",
   "name": "python",
   "nbconvert_exporter": "python",
   "pygments_lexer": "ipython3",
   "version": "3.10.12"
  },
  "orig_nbformat": 4
 },
 "nbformat": 4,
 "nbformat_minor": 2
}
