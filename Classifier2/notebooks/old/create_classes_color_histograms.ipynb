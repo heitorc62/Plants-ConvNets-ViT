{
 "cells": [
  {
   "cell_type": "code",
   "execution_count": 1,
   "metadata": {},
   "outputs": [],
   "source": [
    "import cv2\n",
    "import numpy as np\n",
    "import os\n",
    "from tqdm.notebook import tqdm\n",
    "import matplotlib.pyplot as plt\n",
    "from scipy.stats import skew, kurtosis"
   ]
  },
  {
   "cell_type": "code",
   "execution_count": 2,
   "metadata": {},
   "outputs": [],
   "source": [
    "def compute_statistics(hist):\n",
    "    hist_norm = hist / hist.sum()  # Normalize histogram to get probability distribution\n",
    "    bin_edges = np.arange(257)\n",
    "    bin_centers = (bin_edges[:-1] + bin_edges[1:]) / 2\n",
    "    \n",
    "    mean = np.sum(bin_centers * hist_norm)\n",
    "    median = np.percentile(bin_centers, 50, method='nearest')\n",
    "    std_dev = np.sqrt(np.sum((bin_centers - mean) ** 2 * hist_norm))\n",
    "    skewness = skew(hist_norm, bias=False)\n",
    "    kurt = kurtosis(hist_norm, bias=False)\n",
    "    \n",
    "    return [mean, median, std_dev, skewness, kurt]"
   ]
  },
  {
   "cell_type": "code",
   "execution_count": 3,
   "metadata": {},
   "outputs": [],
   "source": [
    "def make_histogram(class_, files, dest_dir, dest_stats_dir):\n",
    "    dest_class = class_.split(\"/\")[-1]\n",
    "    class_dest_dir = os.path.join(dest_dir, dest_class)\n",
    "    class_stats_dest_dir = os.path.join(dest_stats_dir, dest_class)\n",
    "    os.makedirs(class_dest_dir, exist_ok=True)\n",
    "    os.makedirs(class_stats_dest_dir, exist_ok=True)\n",
    "    for file in files:\n",
    "        filepath = os.path.join(class_, file)\n",
    "        img = cv2.imread(filepath)\n",
    "        # Convert BGR to RGB (OpenCV uses BGR by default)\n",
    "        img_rgb = cv2.cvtColor(img, cv2.COLOR_BGR2RGB)\n",
    "        img_gray = cv2.cvtColor(img, cv2.COLOR_BGR2GRAY)\n",
    "        \n",
    "        luminance_hist = cv2.calcHist([img_gray], [0], None, [256], [0,256]).flatten()\n",
    "\n",
    "        hist_b = cv2.calcHist([img_rgb], [0], None, [256], [0, 256]).flatten()\n",
    "        hist_g = cv2.calcHist([img_rgb], [1], None, [256], [0, 256]).flatten()\n",
    "        hist_r = cv2.calcHist([img_rgb], [2], None, [256], [0, 256]).flatten()\n",
    "        \n",
    "        file_base = file.replace('.JPG', '')\n",
    "        destination_path = os.path.join(class_dest_dir, file_base)\n",
    "        np.save(destination_path, np.array([luminance_hist, hist_r, hist_b, hist_g]))\n",
    "        \n",
    "        luminance_stats = compute_statistics(luminance_hist)\n",
    "        red_stats = compute_statistics(hist_r)\n",
    "        blue_stats = compute_statistics(hist_b)\n",
    "        green_stats = compute_statistics(hist_g)\n",
    "        \n",
    "         # Save the statistics\n",
    "        stats_destination_path = os.path.join(class_stats_dest_dir, file_base)\n",
    "        np.save(stats_destination_path, np.array([luminance_stats, red_stats, blue_stats, green_stats]))"
   ]
  },
  {
   "cell_type": "code",
   "execution_count": 4,
   "metadata": {},
   "outputs": [],
   "source": [
    "def process_directory_structure(src_dir, dest_dir, stats_dest_dir):\n",
    "    os.makedirs(dest_dir, exist_ok=True)\n",
    "    os.makedirs(stats_dest_dir, exist_ok=True)\n",
    "    all_dirs = list(os.walk(src_dir))\n",
    "    \n",
    "    # Iterate over each directory\n",
    "    for dirpath, _, files in tqdm(all_dirs, desc=\"Processing directories\"):\n",
    "        if len(files) > 0:\n",
    "            make_histogram(dirpath, files, dest_dir, stats_dest_dir)"
   ]
  },
  {
   "cell_type": "code",
   "execution_count": 5,
   "metadata": {},
   "outputs": [
    {
     "data": {
      "application/vnd.jupyter.widget-view+json": {
       "model_id": "8a90b8ab842741c0baa10b982698a4d1",
       "version_major": 2,
       "version_minor": 0
      },
      "text/plain": [
       "Processing directories:   0%|          | 0/40 [00:00<?, ?it/s]"
      ]
     },
     "metadata": {},
     "output_type": "display_data"
    }
   ],
   "source": [
    "process_directory_structure(\"/home/heitor/USP/IC/FAPESP/code_dataset/dataset/Plant_leave_diseases_dataset_without_augmentation\",\n",
    "                            \"/home/heitor/USP/IC/FAPESP/code_dataset/dataset/Regular_Histograms\",\n",
    "                            \"/home/heitor/USP/IC/FAPESP/code_dataset/dataset/Regular_Histograms_Stats\")"
   ]
  },
  {
   "cell_type": "code",
   "execution_count": null,
   "metadata": {},
   "outputs": [],
   "source": [
    "process_directory_structure(\"/home/heitor/USP/IC/FAPESP/code_dataset/dataset/Plant_leave_diseases_dataset_without_augmentation\",\n",
    "                            \"/home/heitor/USP/IC/FAPESP/code_dataset/dataset/Regular_Histograms\", make_histogram)"
   ]
  }
 ],
 "metadata": {
  "kernelspec": {
   "display_name": "base",
   "language": "python",
   "name": "python3"
  },
  "language_info": {
   "codemirror_mode": {
    "name": "ipython",
    "version": 3
   },
   "file_extension": ".py",
   "mimetype": "text/x-python",
   "name": "python",
   "nbconvert_exporter": "python",
   "pygments_lexer": "ipython3",
   "version": "3.11.5"
  },
  "orig_nbformat": 4
 },
 "nbformat": 4,
 "nbformat_minor": 2
}
