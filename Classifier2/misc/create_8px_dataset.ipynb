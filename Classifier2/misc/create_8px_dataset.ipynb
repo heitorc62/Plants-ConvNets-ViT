{
 "cells": [
  {
   "cell_type": "code",
   "execution_count": 5,
   "metadata": {},
   "outputs": [],
   "source": [
    "from PIL import Image\n",
    "import matplotlib.pyplot as plt\n",
    "from tqdm.notebook import tqdm\n",
    "import os\n",
    "import cv2"
   ]
  },
  {
   "cell_type": "code",
   "execution_count": 6,
   "metadata": {},
   "outputs": [],
   "source": [
    "def extract_8px(image_path):\n",
    "    # Load the input image\n",
    "    input_image = Image.open(image_path)\n",
    "    pixels = input_image.load()\n",
    "    \n",
    "    # Dimensions of the input image\n",
    "    width, height = input_image.size\n",
    "    \n",
    "    # Extract the 8 pixels\n",
    "    # Top-left, top-right, bottom-left, bottom-right corners\n",
    "    # Middle of top, bottom, left, and right borders\n",
    "    extracted_pixels = [\n",
    "        pixels[0, 0],  # Top-left\n",
    "        pixels[width - 1, 0],  # Top-right\n",
    "        pixels[0, height - 1],  # Bottom-left\n",
    "        pixels[width - 1, height - 1],  # Bottom-right\n",
    "        pixels[width // 2, 0],  # Middle top\n",
    "        pixels[width // 2, height - 1],  # Middle bottom\n",
    "        pixels[0, height // 2],  # Middle left\n",
    "        pixels[width - 1, height // 2],  # Middle right\n",
    "    ]\n",
    "    \n",
    "    # Create a new 3x3 image\n",
    "    new_image = Image.new('RGB', (3, 3), \"white\")\n",
    "    new_pixels = new_image.load()\n",
    "    \n",
    "    # Map the extracted pixels to their new positions\n",
    "    new_positions = [\n",
    "        (0, 0), (2, 0),\n",
    "        (0, 2), (2, 2),\n",
    "        (1, 0), (1, 2),\n",
    "        (0, 1), (2, 1),\n",
    "    ]\n",
    "    \n",
    "    for pos, pixel in zip(new_positions, extracted_pixels):\n",
    "        new_pixels[pos] = pixel\n",
    "    \n",
    "    return new_image"
   ]
  },
  {
   "cell_type": "code",
   "execution_count": 7,
   "metadata": {},
   "outputs": [],
   "source": [
    "def process_directory_structure(src_dir, dest_dir):\n",
    "    # Iterate over each subdirectory\n",
    "    for subdir, _, files in tqdm(os.walk(src_dir)):\n",
    "        for file in files:\n",
    "            # Construct the full file path\n",
    "            src_file_path = os.path.join(subdir, file)\n",
    "\n",
    "            # Construct the destination file path\n",
    "            relative_path = os.path.relpath(subdir, src_dir)\n",
    "            dest_subdir = os.path.join(dest_dir, relative_path)\n",
    "            dest_file_path = os.path.join(dest_subdir, file)\n",
    "\n",
    "            # Create the destination directory if it doesn't exist\n",
    "            if not os.path.exists(dest_subdir):\n",
    "                os.makedirs(dest_subdir)\n",
    "\n",
    "            # Process the image\n",
    "            processed_img = extract_8px(src_file_path)\n",
    "\n",
    "            # Save the processed image to the destination path\n",
    "            processed_img.save(dest_file_path)"
   ]
  },
  {
   "cell_type": "code",
   "execution_count": 8,
   "metadata": {},
   "outputs": [
    {
     "data": {
      "application/vnd.jupyter.widget-view+json": {
       "model_id": "cdd0537eaf1e48a881c208587a15388f",
       "version_major": 2,
       "version_minor": 0
      },
      "text/plain": [
       "0it [00:00, ?it/s]"
      ]
     },
     "metadata": {},
     "output_type": "display_data"
    }
   ],
   "source": [
    "process_directory_structure('/home/heitor/USP/IC/FAPESP/code_dataset/dataset/Plant_leave_diseases_dataset_without_augmentation',\n",
    "                            '/home/heitor/USP/IC/FAPESP/code_dataset/dataset/Plant_leave_8px')\n"
   ]
  }
 ],
 "metadata": {
  "kernelspec": {
   "display_name": "IC",
   "language": "python",
   "name": "python3"
  },
  "language_info": {
   "codemirror_mode": {
    "name": "ipython",
    "version": 3
   },
   "file_extension": ".py",
   "mimetype": "text/x-python",
   "name": "python",
   "nbconvert_exporter": "python",
   "pygments_lexer": "ipython3",
   "version": "3.11.5"
  }
 },
 "nbformat": 4,
 "nbformat_minor": 2
}
