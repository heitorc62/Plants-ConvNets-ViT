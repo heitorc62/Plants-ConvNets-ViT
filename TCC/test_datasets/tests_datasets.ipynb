{
 "cells": [
  {
   "cell_type": "code",
   "execution_count": 1,
   "metadata": {},
   "outputs": [],
   "source": [
    "import pandas as pd\n",
    "import requests\n",
    "from tqdm import tqdm\n",
    "import os"
   ]
  },
  {
   "cell_type": "code",
   "execution_count": 2,
   "metadata": {},
   "outputs": [],
   "source": [
    "bing_dataset = pd.read_csv(\"bing_results.csv\")\n",
    "bing_dataset_dict = {key: [] for key in bing_dataset[\"ACTUAL LABEL\"].unique()}\n",
    "\n",
    "ipm_dataset = pd.read_csv(\"ipm_results.csv\")\n",
    "ipm_dataset = ipm_dataset.rename(columns={\"Actual Label\": \"ACTUAL LABEL\"})\n",
    "ipm_dataset_dict = {key: [] for key in ipm_dataset[\"ACTUAL LABEL\"].unique()}\n"
   ]
  },
  {
   "cell_type": "code",
   "execution_count": 3,
   "metadata": {},
   "outputs": [],
   "source": [
    "class Downloader():\n",
    "    def __init__(self):\n",
    "        self.count = 0\n",
    "        \n",
    "    def download_img(self, url):\n",
    "        headers = {\n",
    "            'User-Agent': 'Mozilla/5.0 (Windows NT 10.0; Win64; x64) AppleWebKit/537.36 (KHTML, like Gecko) Chrome/58.0.3029.110 Safari/537.3'\n",
    "        }\n",
    "        try:\n",
    "            response = requests.get(url, headers=headers)\n",
    "            response.raise_for_status()  # This will raise an HTTPError for bad responses\n",
    "            return response.content\n",
    "        except requests.exceptions.HTTPError as e:\n",
    "            print(f\"Download failed with HTTP error: {e}\")\n",
    "            self.count += 1\n",
    "            return None\n",
    "        except requests.exceptions.RequestException as e:\n",
    "            print(f\"Download failed with request exception: {e}\")\n",
    "            self.count += 1\n",
    "            return None\n",
    "        \n",
    "        \n",
    "def populate_dict(dataset, dataset_dict):\n",
    "    downloader = Downloader()\n",
    "    for index, row in tqdm(dataset.iterrows(), total=dataset.shape[0]):\n",
    "        img = downloader.download_img(row[\"URL\"])\n",
    "        if img is not None:\n",
    "            dataset_dict[row[\"ACTUAL LABEL\"]].append(img)\n",
    "    \n",
    "    print(f\"Ao final, {downloader.count} de imagens deixaram de ser baixadas.\")\n",
    "    return dataset_dict\n",
    "\n",
    "def save_imgs(dataset_name, cls, img_list):\n",
    "    # Create directory path\n",
    "    directory_path = os.path.join(dataset_name, cls)\n",
    "    os.makedirs(directory_path, exist_ok=True)\n",
    "    \n",
    "    for idx, img_data in enumerate(img_list):\n",
    "        # Construct a unique file name for each image\n",
    "        file_path = os.path.join(directory_path, f'image_{idx}.jpg')\n",
    "        \n",
    "        try:\n",
    "            # Write the image data to the file\n",
    "            with open(file_path, 'wb') as file_handler:\n",
    "                file_handler.write(img_data)\n",
    "        except IOError as e:\n",
    "            print(f\"Failed to write image to {file_path}: {str(e)}\")\n",
    "\n",
    "def save_imgs_from_dict(dataset_name, img_dict):\n",
    "    for label, imgs in img_dict.items():\n",
    "        if imgs:\n",
    "            save_imgs(dataset_name, label, imgs)\n"
   ]
  },
  {
   "cell_type": "code",
   "execution_count": 4,
   "metadata": {},
   "outputs": [
    {
     "name": "stderr",
     "output_type": "stream",
     "text": [
      "100%|██████████| 119/119 [02:08<00:00,  1.08s/it]"
     ]
    },
    {
     "name": "stdout",
     "output_type": "stream",
     "text": [
      "Ao final, 0 de imagens deixaram de ser baixadas.\n"
     ]
    },
    {
     "name": "stderr",
     "output_type": "stream",
     "text": [
      "\n"
     ]
    }
   ],
   "source": [
    "ipm_dict = populate_dict(ipm_dataset, ipm_dataset_dict)\n",
    "save_imgs_from_dict(\"IPM_dataset\", ipm_dict)"
   ]
  },
  {
   "cell_type": "code",
   "execution_count": 5,
   "metadata": {},
   "outputs": [
    {
     "name": "stderr",
     "output_type": "stream",
     "text": [
      "  1%|          | 1/121 [00:00<01:47,  1.12it/s]"
     ]
    },
    {
     "name": "stdout",
     "output_type": "stream",
     "text": [
      "Download failed with request exception: HTTPConnectionPool(host='blog.savatree.com', port=80): Max retries exceeded with url: /wp-content/uploads/leafscab.jpg (Caused by NewConnectionError('<urllib3.connection.HTTPConnection object at 0x7ffaee9534d0>: Failed to establish a new connection: [Errno -2] Name or service not known'))\n"
     ]
    },
    {
     "name": "stderr",
     "output_type": "stream",
     "text": [
      "  2%|▏         | 2/121 [00:02<03:08,  1.58s/it]"
     ]
    },
    {
     "name": "stdout",
     "output_type": "stream",
     "text": [
      "Download failed with HTTP error: 404 Client Error: Not Found for url: https://extension.umaine.edu/ipm/wp-content/uploads/sites/3/2010/10/AppleScabsml.jpg\n"
     ]
    },
    {
     "name": "stderr",
     "output_type": "stream",
     "text": [
      "  2%|▏         | 3/121 [00:04<03:13,  1.64s/it]"
     ]
    },
    {
     "name": "stdout",
     "output_type": "stream",
     "text": [
      "Download failed with HTTP error: 404 Client Error: NOT FOUND for url: https://www.apsnet.org/edcenter/intropp/lessons/fungi/ascomycetes/Article%20Images/AppleScab03.jpg\n"
     ]
    },
    {
     "name": "stderr",
     "output_type": "stream",
     "text": [
      "  3%|▎         | 4/121 [00:08<04:35,  2.35s/it]"
     ]
    },
    {
     "name": "stdout",
     "output_type": "stream",
     "text": [
      "Download failed with HTTP error: 404 Client Error: Not Found for url: https://yardandgarden.extension.iastate.edu/pidc/files/images/plantdisease/1/28.jpg\n"
     ]
    },
    {
     "name": "stderr",
     "output_type": "stream",
     "text": [
      "  4%|▍         | 5/121 [00:11<05:12,  2.70s/it]"
     ]
    },
    {
     "name": "stdout",
     "output_type": "stream",
     "text": [
      "Download failed with HTTP error: 404 Client Error:  for url: https://www.canr.msu.edu:443/ipm/uploads/diseases/_full/Apple_scab_on_leaves2-WWT-C.jpg\n"
     ]
    },
    {
     "name": "stderr",
     "output_type": "stream",
     "text": [
      "  6%|▌         | 7/121 [00:14<03:47,  2.00s/it]"
     ]
    },
    {
     "name": "stdout",
     "output_type": "stream",
     "text": [
      "Download failed with HTTP error: 404 Client Error: NOT FOUND for url: https://www.apsnet.org/edcenter/intropp/lessons/fungi/ascomycetes/Article%20Images/AppleScab02.jpg\n"
     ]
    },
    {
     "name": "stderr",
     "output_type": "stream",
     "text": [
      "  7%|▋         | 9/121 [00:25<08:01,  4.30s/it]"
     ]
    },
    {
     "name": "stdout",
     "output_type": "stream",
     "text": [
      "Download failed with HTTP error: 404 Client Error: Not Found for url: http://www.nhfruitgrowers.org/blog/wp-content/uploads/2009/03/scab1.jpg\n"
     ]
    },
    {
     "name": "stderr",
     "output_type": "stream",
     "text": [
      " 10%|▉         | 12/121 [00:29<04:17,  2.36s/it]"
     ]
    },
    {
     "name": "stdout",
     "output_type": "stream",
     "text": [
      "Download failed with request exception: HTTPSConnectionPool(host='www.ca.uky.edu', port=443): Max retries exceeded with url: /agcollege/plantpathology/extension/KPN%20Site%20Files/kpn_09/Images/060909%20Hartman%20Apple%20frogeye%20LS-CU.JPG (Caused by SSLError(SSLCertVerificationError(1, '[SSL: CERTIFICATE_VERIFY_FAILED] certificate verify failed: unable to get local issuer certificate (_ssl.c:1006)')))\n"
     ]
    },
    {
     "name": "stderr",
     "output_type": "stream",
     "text": [
      " 11%|█         | 13/121 [00:32<04:22,  2.43s/it]"
     ]
    },
    {
     "name": "stdout",
     "output_type": "stream",
     "text": [
      "Download failed with HTTP error: 404 Client Error: Not Found for url: https://extension.umn.edu/garden/diagnose/plant/images/apple/diseases/blackrot2_600px.jpg\n"
     ]
    },
    {
     "name": "stderr",
     "output_type": "stream",
     "text": [
      " 12%|█▏        | 15/121 [00:35<03:19,  1.88s/it]"
     ]
    },
    {
     "name": "stdout",
     "output_type": "stream",
     "text": [
      "Download failed with HTTP error: 404 Client Error: Not Found for url: https://extension.missouri.edu/adair/images/cedar_apple_rust_on_jonagold_3.jpg\n"
     ]
    },
    {
     "name": "stderr",
     "output_type": "stream",
     "text": [
      " 14%|█▍        | 17/121 [00:38<02:43,  1.57s/it]"
     ]
    },
    {
     "name": "stdout",
     "output_type": "stream",
     "text": [
      "Download failed with HTTP error: 404 Client Error: Not Found for url: https://extension.missouri.edu/adair/images/cedar_apple_rust_on_jonagold_4.jpg\n"
     ]
    },
    {
     "name": "stderr",
     "output_type": "stream",
     "text": [
      " 16%|█▌        | 19/121 [00:41<02:35,  1.52s/it]"
     ]
    },
    {
     "name": "stdout",
     "output_type": "stream",
     "text": [
      "Download failed with request exception: HTTPConnectionPool(host='www.bio.brandeis.edu', port=80): Max retries exceeded with url: /fieldbio/Clapp_Hansen_Siegel/Images/crab_apple_03_leaves.jpg (Caused by NewConnectionError('<urllib3.connection.HTTPConnection object at 0x7ffaee964a50>: Failed to establish a new connection: [Errno 111] Connection refused'))\n"
     ]
    },
    {
     "name": "stderr",
     "output_type": "stream",
     "text": [
      " 19%|█▉        | 23/121 [00:52<03:40,  2.25s/it]"
     ]
    },
    {
     "name": "stdout",
     "output_type": "stream",
     "text": [
      "Download failed with request exception: HTTPConnectionPool(host='www-saps.plantsci.cam.ac.uk', port=80): Max retries exceeded with url: /trees/images/leaves/41.jpg (Caused by NewConnectionError('<urllib3.connection.HTTPConnection object at 0x7ffaee967390>: Failed to establish a new connection: [Errno 111] Connection refused'))\n"
     ]
    },
    {
     "name": "stderr",
     "output_type": "stream",
     "text": [
      " 21%|██▏       | 26/121 [01:03<04:36,  2.91s/it]"
     ]
    },
    {
     "name": "stdout",
     "output_type": "stream",
     "text": [
      "Download failed with request exception: HTTPSConnectionPool(host='farmdoc.illinois.edu', port=443): Max retries exceeded with url: /field-crop-productionphotos/gray_leaf_spot.jpg (Caused by SSLError(SSLCertVerificationError(1, '[SSL: CERTIFICATE_VERIFY_FAILED] certificate verify failed: unable to get local issuer certificate (_ssl.c:1006)')))\n"
     ]
    },
    {
     "name": "stderr",
     "output_type": "stream",
     "text": [
      " 24%|██▍       | 29/121 [01:14<05:07,  3.34s/it]"
     ]
    },
    {
     "name": "stdout",
     "output_type": "stream",
     "text": [
      "Download failed with HTTP error: 404 Client Error: NOT FOUND for url: https://www.ces.ncsu.edu/depts/pp/notes/Corn/grayleafspot.jpg\n"
     ]
    },
    {
     "name": "stderr",
     "output_type": "stream",
     "text": [
      " 25%|██▍       | 30/121 [01:17<04:42,  3.11s/it]"
     ]
    },
    {
     "name": "stdout",
     "output_type": "stream",
     "text": [
      "Download failed with HTTP error: 404 Client Error: Not Found for url: https://yardandgarden.extension.iastate.edu/pidc/files/images/plant-disease/228/269.jpg\n"
     ]
    },
    {
     "name": "stderr",
     "output_type": "stream",
     "text": [
      " 26%|██▌       | 31/121 [01:19<03:57,  2.64s/it]"
     ]
    },
    {
     "name": "stdout",
     "output_type": "stream",
     "text": [
      "Download failed with HTTP error: 404 Client Error: Not Found for url: https://www.extension.iastate.edu/NR/rdonlyres/56A95277-4FB2-44E4-8C97-A1652E957ABC/129834/rsz0803Figure5.jpg\n"
     ]
    },
    {
     "name": "stderr",
     "output_type": "stream",
     "text": [
      " 26%|██▋       | 32/121 [01:20<03:16,  2.21s/it]"
     ]
    },
    {
     "name": "stdout",
     "output_type": "stream",
     "text": [
      "Download failed with request exception: HTTPSConnectionPool(host='farmdoc.illinois.edu', port=443): Max retries exceeded with url: /field-crop-productionphotos/common_rust.jpg (Caused by SSLError(SSLCertVerificationError(1, '[SSL: CERTIFICATE_VERIFY_FAILED] certificate verify failed: unable to get local issuer certificate (_ssl.c:1006)')))\n"
     ]
    },
    {
     "name": "stderr",
     "output_type": "stream",
     "text": [
      " 27%|██▋       | 33/121 [01:21<02:51,  1.95s/it]"
     ]
    },
    {
     "name": "stdout",
     "output_type": "stream",
     "text": [
      "Download failed with request exception: HTTPSConnectionPool(host='farmdoc.illinois.edu', port=443): Max retries exceeded with url: /field-crop-productionphotos/common_rust_closeup.jpg (Caused by SSLError(SSLCertVerificationError(1, '[SSL: CERTIFICATE_VERIFY_FAILED] certificate verify failed: unable to get local issuer certificate (_ssl.c:1006)')))\n"
     ]
    },
    {
     "name": "stderr",
     "output_type": "stream",
     "text": [
      " 28%|██▊       | 34/121 [01:24<03:05,  2.13s/it]"
     ]
    },
    {
     "name": "stdout",
     "output_type": "stream",
     "text": [
      "Download failed with HTTP error: 404 Client Error: Not Found for url: http://cropdisease.cropsciences.illinois.edu/corn/images/08LARGEcomcrnrust006%20copy.jpg\n"
     ]
    },
    {
     "name": "stderr",
     "output_type": "stream",
     "text": [
      " 29%|██▉       | 35/121 [01:27<03:27,  2.42s/it]"
     ]
    },
    {
     "name": "stdout",
     "output_type": "stream",
     "text": [
      "Download failed with HTTP error: 404 Client Error: Not Found for url: https://extension.umn.edu/agriculture/crop-diseases/images/corn/commonrust2_600px.jpg\n"
     ]
    },
    {
     "name": "stderr",
     "output_type": "stream",
     "text": [
      " 33%|███▎      | 40/121 [01:33<02:08,  1.58s/it]"
     ]
    },
    {
     "name": "stdout",
     "output_type": "stream",
     "text": [
      "Download failed with HTTP error: 404 Client Error: Not Found for url: https://extension.umn.edu/garden/diagnose/plant/images/corn/nclb3_600px.jpg\n"
     ]
    },
    {
     "name": "stderr",
     "output_type": "stream",
     "text": [
      " 35%|███▍      | 42/121 [01:38<02:57,  2.25s/it]"
     ]
    },
    {
     "name": "stdout",
     "output_type": "stream",
     "text": [
      "Download failed with HTTP error: 404 Client Error: Not Found for url: https://extension.umn.edu/garden/diagnose/plant/images/grape/disease/blackrot1_600px.jpg\n"
     ]
    },
    {
     "name": "stderr",
     "output_type": "stream",
     "text": [
      " 36%|███▌      | 43/121 [01:42<03:23,  2.61s/it]"
     ]
    },
    {
     "name": "stdout",
     "output_type": "stream",
     "text": [
      "Download failed with HTTP error: 404 Client Error: Not Found for url: https://ag.purdue.edu/department/btny/ppdl/PPDL/images/black_rot-grape_leaf.jpeg\n"
     ]
    },
    {
     "name": "stderr",
     "output_type": "stream",
     "text": [
      " 37%|███▋      | 45/121 [01:45<02:28,  1.95s/it]"
     ]
    },
    {
     "name": "stdout",
     "output_type": "stream",
     "text": [
      "Download failed with request exception: HTTPConnectionPool(host='pbt.padil.gov.au', port=80): Max retries exceeded with url: /pbt/files/uall/BBG__infection_on_vine_leaf.jpg (Caused by NewConnectionError('<urllib3.connection.HTTPConnection object at 0x7ffaee9539d0>: Failed to establish a new connection: [Errno -2] Name or service not known'))\n"
     ]
    },
    {
     "name": "stderr",
     "output_type": "stream",
     "text": [
      " 38%|███▊      | 46/121 [01:47<02:27,  1.97s/it]"
     ]
    },
    {
     "name": "stdout",
     "output_type": "stream",
     "text": [
      "Download failed with request exception: HTTPSConnectionPool(host='www.jahresbericht.agroscope.admin.ch', port=443): Max retries exceeded with url: /agroscope_jahresbericht/en/home/Ausgabe2/Wissenschaft_kurz/Pflanzen/_jcr_content/par/columncontrols/items/1/column/textimage_0/image.imagespooler.jpg/1445766522522/ausgabe2_holzkrankheiten_rebe.jpg (Caused by NewConnectionError('<urllib3.connection.HTTPSConnection object at 0x7ffaee9648d0>: Failed to establish a new connection: [Errno 111] Connection refused'))\n"
     ]
    },
    {
     "name": "stderr",
     "output_type": "stream",
     "text": [
      " 39%|███▉      | 47/121 [01:49<02:16,  1.84s/it]"
     ]
    },
    {
     "name": "stdout",
     "output_type": "stream",
     "text": [
      "Download failed with HTTP error: 404 Client Error: NOT FOUND for url: https://www.apsnet.org/publications/apsnetfeatures/Article%20Images/Huanglongbing_Fig07.jpg\n"
     ]
    },
    {
     "name": "stderr",
     "output_type": "stream",
     "text": [
      " 40%|███▉      | 48/121 [01:50<02:00,  1.65s/it]"
     ]
    },
    {
     "name": "stdout",
     "output_type": "stream",
     "text": [
      "Download failed with HTTP error: 404 Client Error: NOT FOUND for url: https://www.apsnet.org/publications/apsnetfeatures/Article%20Images/CitrusHLB_Fig04.jpg\n"
     ]
    },
    {
     "name": "stderr",
     "output_type": "stream",
     "text": [
      " 40%|████      | 49/121 [01:51<01:47,  1.50s/it]"
     ]
    },
    {
     "name": "stdout",
     "output_type": "stream",
     "text": [
      "Download failed with HTTP error: 403 Client Error: Forbidden for url: http://www.ars.usda.gov/is/graphics/photos/aug13/d2938-1i.jpg\n"
     ]
    },
    {
     "name": "stderr",
     "output_type": "stream",
     "text": [
      " 42%|████▏     | 51/121 [04:07<47:55, 41.08s/it]"
     ]
    },
    {
     "name": "stdout",
     "output_type": "stream",
     "text": [
      "Download failed with request exception: HTTPConnectionPool(host='www.caf.wvu.edu', port=80): Max retries exceeded with url: /kearneysville/disease_descriptions/disease_images/phot2-63.jpg (Caused by ConnectTimeoutError(<urllib3.connection.HTTPConnection object at 0x7ffaee9662d0>, 'Connection to www.caf.wvu.edu timed out. (connect timeout=None)'))\n"
     ]
    },
    {
     "name": "stderr",
     "output_type": "stream",
     "text": [
      " 45%|████▍     | 54/121 [04:13<17:16, 15.47s/it]"
     ]
    },
    {
     "name": "stdout",
     "output_type": "stream",
     "text": [
      "Download failed with HTTP error: 404 Client Error: Not Found for url: https://extension.umn.edu/garden/diagnose/plant/images/potato/disease/EarlyBlight1_600px.jpg\n"
     ]
    },
    {
     "name": "stderr",
     "output_type": "stream",
     "text": [
      " 45%|████▌     | 55/121 [04:15<12:49, 11.65s/it]"
     ]
    },
    {
     "name": "stdout",
     "output_type": "stream",
     "text": [
      "Download failed with HTTP error: 404 Client Error: Not Found for url: http://agropedia.iitk.ac.in/sites/default/files/early-blight-1-la_potatoleaf.jpg\n"
     ]
    },
    {
     "name": "stderr",
     "output_type": "stream",
     "text": [
      " 48%|████▊     | 58/121 [04:20<05:07,  4.88s/it]"
     ]
    },
    {
     "name": "stdout",
     "output_type": "stream",
     "text": [
      "Download failed with HTTP error: 404 Client Error: Not Found for url: https://fyi.extension.wisc.edu/news/files/2010/07/LB_potato_leaf_topside.jpg\n"
     ]
    },
    {
     "name": "stderr",
     "output_type": "stream",
     "text": [
      " 50%|████▉     | 60/121 [04:27<04:20,  4.27s/it]"
     ]
    },
    {
     "name": "stdout",
     "output_type": "stream",
     "text": [
      "Download failed with HTTP error: 404 Client Error: Not Found for url: https://www.botgard.ucla.edu/html/botanytextbooks/economicbotany/images/Glycine/Glycineleaves.jpg\n"
     ]
    },
    {
     "name": "stderr",
     "output_type": "stream",
     "text": [
      " 54%|█████▎    | 65/121 [04:40<02:44,  2.93s/it]"
     ]
    },
    {
     "name": "stdout",
     "output_type": "stream",
     "text": [
      "Download failed with HTTP error: 404 Client Error: Not Found for url: https://extension.umn.edu/garden/yard-garden/fruit/pest-management-in-the-home-strawberry-patch/leaf-scorch/img/big-Leaf-scorch-1.jpg\n"
     ]
    },
    {
     "name": "stderr",
     "output_type": "stream",
     "text": [
      " 55%|█████▍    | 66/121 [04:42<02:31,  2.76s/it]"
     ]
    },
    {
     "name": "stdout",
     "output_type": "stream",
     "text": [
      "Download failed with HTTP error: 404 Client Error: Not Found for url: https://extension.umn.edu/garden/yard-garden/fruit/pest-management-in-the-home-strawberry-patch/leaf-scorch/img/big-leaf-scorch-2.jpg\n"
     ]
    },
    {
     "name": "stderr",
     "output_type": "stream",
     "text": [
      " 55%|█████▌    | 67/121 [04:45<02:29,  2.76s/it]"
     ]
    },
    {
     "name": "stdout",
     "output_type": "stream",
     "text": [
      "Download failed with HTTP error: 404 Client Error: Not Found for url: https://extension.umn.edu/garden/diagnose/plant/images/strawberry/diseases/leafscorch1_600px.jpg\n"
     ]
    },
    {
     "name": "stderr",
     "output_type": "stream",
     "text": [
      " 56%|█████▌    | 68/121 [04:48<02:21,  2.67s/it]"
     ]
    },
    {
     "name": "stdout",
     "output_type": "stream",
     "text": [
      "Download failed with HTTP error: 404 Client Error: Not Found for url: https://extension.umn.edu/garden/diagnose/plant/images/strawberry/diseases/leafscorch2_600px.jpg\n"
     ]
    },
    {
     "name": "stderr",
     "output_type": "stream",
     "text": [
      " 57%|█████▋    | 69/121 [04:50<02:09,  2.48s/it]"
     ]
    },
    {
     "name": "stdout",
     "output_type": "stream",
     "text": [
      "Download failed with request exception: HTTPSConnectionPool(host='www.oardc.ohio-state.edu', port=443): Max retries exceeded with url: /fruitpathology/organic/strawberry/images/strawb36.jpg (Caused by SSLError(SSLCertVerificationError(1, '[SSL: CERTIFICATE_VERIFY_FAILED] certificate verify failed: unable to get local issuer certificate (_ssl.c:1006)')))\n"
     ]
    },
    {
     "name": "stderr",
     "output_type": "stream",
     "text": [
      " 58%|█████▊    | 70/121 [04:52<02:09,  2.54s/it]"
     ]
    },
    {
     "name": "stdout",
     "output_type": "stream",
     "text": [
      "Download failed with request exception: HTTPConnectionPool(host='www1.extension.umn.edu', port=80): Max retries exceeded with url: /garden/diagnose/plant/images/strawberry/diseases/leafscorch3_600px.jpg (Caused by NewConnectionError('<urllib3.connection.HTTPConnection object at 0x7ffaee990b90>: Failed to establish a new connection: [Errno -2] Name or service not known'))\n"
     ]
    },
    {
     "name": "stderr",
     "output_type": "stream",
     "text": [
      " 60%|█████▉    | 72/121 [04:56<01:34,  1.93s/it]"
     ]
    },
    {
     "name": "stdout",
     "output_type": "stream",
     "text": [
      "Download failed with HTTP error: 404 Client Error: Not Found for url: https://erec.ifas.ufl.edu/tomato-scouting-guide/images/diseases/bacterial-spot118.JPG\n"
     ]
    },
    {
     "name": "stderr",
     "output_type": "stream",
     "text": [
      " 60%|██████    | 73/121 [05:01<02:20,  2.93s/it]"
     ]
    },
    {
     "name": "stdout",
     "output_type": "stream",
     "text": [
      "Download failed with HTTP error: 404 Client Error: Not Found for url: https://www.aces.edu/pubs/docs/A/ANR-0071/images/img_6.jpg\n"
     ]
    },
    {
     "name": "stderr",
     "output_type": "stream",
     "text": [
      " 61%|██████    | 74/121 [05:03<02:07,  2.71s/it]"
     ]
    },
    {
     "name": "stdout",
     "output_type": "stream",
     "text": [
      "Download failed with HTTP error: 404 Client Error: Not Found for url: https://extension.umn.edu/Garden/yard-garden/vegetables/tomato-pest-identification-management/img/bacterial-spot-leaf.jpg\n"
     ]
    },
    {
     "name": "stderr",
     "output_type": "stream",
     "text": [
      " 63%|██████▎   | 76/121 [05:12<02:38,  3.53s/it]"
     ]
    },
    {
     "name": "stdout",
     "output_type": "stream",
     "text": [
      "Download failed with HTTP error: 404 Client Error: Not Found for url: https://ag.purdue.edu/department/btny/ppdl/PPDL/images/Septoria-leaf-spot.jpg\n"
     ]
    },
    {
     "name": "stderr",
     "output_type": "stream",
     "text": [
      " 64%|██████▎   | 77/121 [05:15<02:27,  3.36s/it]"
     ]
    },
    {
     "name": "stdout",
     "output_type": "stream",
     "text": [
      "Download failed with HTTP error: 404 Client Error: Not Found for url: https://extension.umn.edu/b-assets/efans/ygnews/2011/06/15/sept%20Y%26G.jpg\n"
     ]
    },
    {
     "name": "stderr",
     "output_type": "stream",
     "text": [
      " 67%|██████▋   | 81/121 [05:26<02:02,  3.06s/it]"
     ]
    },
    {
     "name": "stdout",
     "output_type": "stream",
     "text": [
      "Download failed with HTTP error: 404 Client Error: Not Found for url: https://yardandgarden.extension.iastate.edu/pidc/files/images/plantdisease/12/26.jpg\n"
     ]
    },
    {
     "name": "stderr",
     "output_type": "stream",
     "text": [
      " 72%|███████▏  | 87/121 [05:52<02:03,  3.63s/it]"
     ]
    },
    {
     "name": "stdout",
     "output_type": "stream",
     "text": [
      "Download failed with HTTP error: 404 Client Error: Not Found for url: https://extension.umn.edu/b-assets/efans/ygnews/2011/06/15/eb%20leaf%20Y%26G.jpg\n"
     ]
    },
    {
     "name": "stderr",
     "output_type": "stream",
     "text": [
      " 73%|███████▎  | 88/121 [05:55<01:50,  3.36s/it]"
     ]
    },
    {
     "name": "stdout",
     "output_type": "stream",
     "text": [
      "Download failed with HTTP error: 404 Client Error: Not Found for url: https://extension.umn.edu/garden/fruit-vegetable/plant-diseases/early-blight-tomato/img/early-blight-leaf-lg.jpg\n"
     ]
    },
    {
     "name": "stderr",
     "output_type": "stream",
     "text": [
      " 76%|███████▌  | 92/121 [06:07<01:32,  3.18s/it]"
     ]
    },
    {
     "name": "stdout",
     "output_type": "stream",
     "text": [
      "Download failed with HTTP error: 404 Client Error: Not Found for url: http://www.growfruitandveg.co.uk/grapevine/attachments/new-shoots/29961d1339421592-yellowing-tomato-leaves-tom-1.jpg\n"
     ]
    },
    {
     "name": "stderr",
     "output_type": "stream",
     "text": [
      " 77%|███████▋  | 93/121 [06:10<01:23,  2.97s/it]"
     ]
    },
    {
     "name": "stdout",
     "output_type": "stream",
     "text": [
      "Download failed with HTTP error: 404 Client Error: Not Found for url: http://www.growfruitandveg.co.uk/grapevine/attachments/new-shoots/29962d1339421611-yellowing-tomato-leaves-tom-3.jpg\n"
     ]
    },
    {
     "name": "stderr",
     "output_type": "stream",
     "text": [
      " 78%|███████▊  | 94/121 [06:13<01:24,  3.13s/it]"
     ]
    },
    {
     "name": "stdout",
     "output_type": "stream",
     "text": [
      "Download failed with HTTP error: 404 Client Error: Not Found for url: http://www.luminescents.co.uk/catalog/images/tomato%20leaves.jpg\n"
     ]
    },
    {
     "name": "stderr",
     "output_type": "stream",
     "text": [
      " 86%|████████▌ | 104/121 [06:43<00:53,  3.17s/it]"
     ]
    },
    {
     "name": "stdout",
     "output_type": "stream",
     "text": [
      "Download failed with HTTP error: 404 Client Error: Not Found for url: https://ag.purdue.edu/department/btny/ppdl/PPDL/images/leafmoldtomato1.jpg\n"
     ]
    },
    {
     "name": "stderr",
     "output_type": "stream",
     "text": [
      " 91%|█████████ | 110/121 [07:11<01:04,  5.86s/it]"
     ]
    },
    {
     "name": "stdout",
     "output_type": "stream",
     "text": [
      "Download failed with HTTP error: 404 Client Error: Not Found for url: https://ipm.cahnr.uconn.edu/documents/raw2/Fungal%20Leaf%20&%20Fruit%20Spots%20of%20Tomato%20I/Tomato%20early%20blight%20target%20like%20leaf%20spot.jpg\n"
     ]
    },
    {
     "name": "stderr",
     "output_type": "stream",
     "text": [
      " 92%|█████████▏| 111/121 [07:16<00:55,  5.58s/it]"
     ]
    },
    {
     "name": "stdout",
     "output_type": "stream",
     "text": [
      "Download failed with HTTP error: 404 Client Error: Not Found for url: https://yardandgarden.extension.iastate.edu/pidc/files/images/plantdisease/12/26.jpg\n"
     ]
    },
    {
     "name": "stderr",
     "output_type": "stream",
     "text": [
      " 93%|█████████▎| 112/121 [07:21<00:47,  5.24s/it]"
     ]
    },
    {
     "name": "stdout",
     "output_type": "stream",
     "text": [
      "Download failed with HTTP error: 404 Client Error: Not Found for url: https://yardandgarden.extension.iastate.edu/pidc/files/images/plantdisease/12/27.jpg\n"
     ]
    },
    {
     "name": "stderr",
     "output_type": "stream",
     "text": [
      " 96%|█████████▌| 116/121 [07:32<00:17,  3.46s/it]"
     ]
    },
    {
     "name": "stdout",
     "output_type": "stream",
     "text": [
      "Download failed with HTTP error: 404 Client Error: Not Found for url: https://www.mofga.org/portals/2/mof&g/son%2005/32-Septoria-leaf-spot.jpg\n"
     ]
    },
    {
     "name": "stderr",
     "output_type": "stream",
     "text": [
      " 97%|█████████▋| 117/121 [07:35<00:14,  3.54s/it]"
     ]
    },
    {
     "name": "stdout",
     "output_type": "stream",
     "text": [
      "Download failed with HTTP error: 404 Client Error: Not Found for url: https://ag.purdue.edu/department/btny/ppdl/PPDL/images/Septoria-leaf-spot.jpg\n"
     ]
    },
    {
     "name": "stderr",
     "output_type": "stream",
     "text": [
      " 98%|█████████▊| 118/121 [07:37<00:09,  3.04s/it]"
     ]
    },
    {
     "name": "stdout",
     "output_type": "stream",
     "text": [
      "Download failed with HTTP error: 404 Client Error: Not Found for url: https://erec.ifas.ufl.edu/tomato-scouting-guide/images/diseases/tobacco-mosaic135.JPG\n"
     ]
    },
    {
     "name": "stderr",
     "output_type": "stream",
     "text": [
      "100%|██████████| 121/121 [07:39<00:00,  3.80s/it]\n"
     ]
    },
    {
     "name": "stdout",
     "output_type": "stream",
     "text": [
      "Ao final, 58 de imagens deixaram de ser baixadas.\n"
     ]
    }
   ],
   "source": [
    "bing_dict = populate_dict(bing_dataset, bing_dataset_dict)\n",
    "save_imgs_from_dict(\"Bing_dataset\", bing_dict)"
   ]
  }
 ],
 "metadata": {
  "kernelspec": {
   "display_name": "IC",
   "language": "python",
   "name": "python3"
  },
  "language_info": {
   "codemirror_mode": {
    "name": "ipython",
    "version": 3
   },
   "file_extension": ".py",
   "mimetype": "text/x-python",
   "name": "python",
   "nbconvert_exporter": "python",
   "pygments_lexer": "ipython3",
   "version": "3.11.5"
  }
 },
 "nbformat": 4,
 "nbformat_minor": 2
}
